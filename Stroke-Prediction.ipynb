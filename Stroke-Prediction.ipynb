{
 "cells": [
  {
   "cell_type": "markdown",
   "id": "fe19b642",
   "metadata": {},
   "source": [
    "## DATA ANALYSIS ON STROKE PREDICTION "
   ]
  },
  {
   "cell_type": "markdown",
   "id": "35b32ea5",
   "metadata": {},
   "source": [
    "### Feature Information"
   ]
  },
  {
   "cell_type": "markdown",
   "id": "b5f526ce",
   "metadata": {},
   "source": [
    " - id: unique identifier\n",
    " - gender: \"Male\", \"Female\" or \"Other\"\n",
    " - age: age of the patient\n",
    " - hypertension: 0 if the patient doesn't have hypertension, 1 if the patient has hypertension\n",
    " - heart_disease: 0 if the patient doesn't have any heart diseases, 1 if the patient has a heart disease\n",
    " - ever_married: \"No\" or \"Yes\"\n",
    " - work_type: \"children\", \"Govt_jov\", \"Never_worked\", \"Private\" or \"Self-employed\"\n",
    " - Residence_type: \"Rural\" or \"Urban\"\n",
    " - avg_glucose_level: average glucose level in blood\n",
    " - bmi: body mass index\n",
    " - smoking_status: \"formerly smoked\", \"never smoked\", \"smokes\" or \"Unknown\"*\n",
    " - stroke: 1 if the patient had a stroke or 0 if not"
   ]
  },
  {
   "cell_type": "code",
   "execution_count": 2,
   "id": "47c7597e",
   "metadata": {},
   "outputs": [],
   "source": [
    "import numpy as np\n",
    "import pandas as pd\n",
    "import matplotlib.pyplot as plt\n",
    "import seaborn as sns\n",
    "import plotly.express as px\n",
    "import scipy.stats as stats\n",
    "from sklearn.preprocessing import StandardScaler, PolynomialFeatures, OneHotEncoder, StandardScaler, PowerTransformer, MinMaxScaler, LabelEncoder, RobustScaler\n",
    "from sklearn.model_selection import RepeatedStratifiedKFold, KFold, cross_val_predict, train_test_split, GridSearchCV, cross_val_score, cross_validate\n",
    "from sklearn.linear_model import LinearRegression, Lasso, Ridge,ElasticNet\n",
    "from sklearn.metrics import plot_confusion_matrix, r2_score, mean_absolute_error, mean_squared_error, classification_report, confusion_matrix, accuracy_score, classification_report\n",
    "from sklearn.metrics import make_scorer, precision_score, precision_recall_curve, plot_precision_recall_curve, plot_roc_curve, roc_auc_score, roc_curve, f1_score, accuracy_score, recall_score\n",
    "from sklearn.pipeline import make_pipeline\n",
    "from sklearn.compose import make_column_transformer\n",
    "from sklearn.neighbors import KNeighborsRegressor\n",
    "from sklearn.svm import SVR\n",
    "from sklearn.ensemble import RandomForestRegressor, RandomForestClassifier, GradientBoostingRegressor, ExtraTreesRegressor, AdaBoostClassifier\n",
    "from sklearn.feature_selection import SelectKBest, SelectPercentile, f_classif, f_regression, mutual_info_regression\n",
    "from sklearn.pipeline import Pipeline\n",
    "from sklearn.tree import plot_tree\n",
    "from sklearn.model_selection import StratifiedKFold\n",
    "from sklearn.linear_model import LogisticRegression\n",
    "from sklearn.tree import DecisionTreeClassifier\n",
    "from sklearn.neighbors import KNeighborsClassifier\n",
    "from sklearn.discriminant_analysis import LinearDiscriminantAnalysis\n",
    "\n",
    "\n",
    "from termcolor import colored\n",
    "\n",
    "\n",
    "import warnings\n",
    "warnings.filterwarnings('ignore')\n",
    "warnings.warn(\"this will not show\")\n",
    "plt.rcParams[\"figure.figsize\"] = (10,6)\n",
    "pd.set_option('max_colwidth',200)\n",
    "\n",
    "# pd.set_option('display.max_rows', 100) # if you wish to see more rows rather than default, just uncomment this line.\n",
    "pd.set_option('display.max_columns', 200)\n",
    "pd.set_option('display.float_format', lambda x: '%.3f' % x)"
   ]
  },
  {
   "cell_type": "markdown",
   "id": "0150a9f8",
   "metadata": {},
   "source": [
    "### Loading dataset"
   ]
  },
  {
   "cell_type": "code",
   "execution_count": 3,
   "id": "b1c6d5c6",
   "metadata": {},
   "outputs": [],
   "source": [
    "df0=pd.read_csv('healthcare-dataset-stroke-data.csv')"
   ]
  },
  {
   "cell_type": "code",
   "execution_count": 4,
   "id": "ae991d3e",
   "metadata": {},
   "outputs": [],
   "source": [
    "df=df0.copy()"
   ]
  },
  {
   "cell_type": "code",
   "execution_count": 5,
   "id": "7d985bd8",
   "metadata": {},
   "outputs": [
    {
     "data": {
      "text/html": [
       "<div>\n",
       "<style scoped>\n",
       "    .dataframe tbody tr th:only-of-type {\n",
       "        vertical-align: middle;\n",
       "    }\n",
       "\n",
       "    .dataframe tbody tr th {\n",
       "        vertical-align: top;\n",
       "    }\n",
       "\n",
       "    .dataframe thead th {\n",
       "        text-align: right;\n",
       "    }\n",
       "</style>\n",
       "<table border=\"1\" class=\"dataframe\">\n",
       "  <thead>\n",
       "    <tr style=\"text-align: right;\">\n",
       "      <th></th>\n",
       "      <th>id</th>\n",
       "      <th>gender</th>\n",
       "      <th>age</th>\n",
       "      <th>hypertension</th>\n",
       "      <th>heart_disease</th>\n",
       "      <th>ever_married</th>\n",
       "      <th>work_type</th>\n",
       "      <th>Residence_type</th>\n",
       "      <th>avg_glucose_level</th>\n",
       "      <th>bmi</th>\n",
       "      <th>smoking_status</th>\n",
       "      <th>stroke</th>\n",
       "    </tr>\n",
       "  </thead>\n",
       "  <tbody>\n",
       "    <tr>\n",
       "      <th>0</th>\n",
       "      <td>9046</td>\n",
       "      <td>Male</td>\n",
       "      <td>67.000</td>\n",
       "      <td>0</td>\n",
       "      <td>1</td>\n",
       "      <td>Yes</td>\n",
       "      <td>Private</td>\n",
       "      <td>Urban</td>\n",
       "      <td>228.690</td>\n",
       "      <td>36.600</td>\n",
       "      <td>formerly smoked</td>\n",
       "      <td>1</td>\n",
       "    </tr>\n",
       "    <tr>\n",
       "      <th>1</th>\n",
       "      <td>51676</td>\n",
       "      <td>Female</td>\n",
       "      <td>61.000</td>\n",
       "      <td>0</td>\n",
       "      <td>0</td>\n",
       "      <td>Yes</td>\n",
       "      <td>Self-employed</td>\n",
       "      <td>Rural</td>\n",
       "      <td>202.210</td>\n",
       "      <td>NaN</td>\n",
       "      <td>never smoked</td>\n",
       "      <td>1</td>\n",
       "    </tr>\n",
       "    <tr>\n",
       "      <th>2</th>\n",
       "      <td>31112</td>\n",
       "      <td>Male</td>\n",
       "      <td>80.000</td>\n",
       "      <td>0</td>\n",
       "      <td>1</td>\n",
       "      <td>Yes</td>\n",
       "      <td>Private</td>\n",
       "      <td>Rural</td>\n",
       "      <td>105.920</td>\n",
       "      <td>32.500</td>\n",
       "      <td>never smoked</td>\n",
       "      <td>1</td>\n",
       "    </tr>\n",
       "    <tr>\n",
       "      <th>3</th>\n",
       "      <td>60182</td>\n",
       "      <td>Female</td>\n",
       "      <td>49.000</td>\n",
       "      <td>0</td>\n",
       "      <td>0</td>\n",
       "      <td>Yes</td>\n",
       "      <td>Private</td>\n",
       "      <td>Urban</td>\n",
       "      <td>171.230</td>\n",
       "      <td>34.400</td>\n",
       "      <td>smokes</td>\n",
       "      <td>1</td>\n",
       "    </tr>\n",
       "    <tr>\n",
       "      <th>4</th>\n",
       "      <td>1665</td>\n",
       "      <td>Female</td>\n",
       "      <td>79.000</td>\n",
       "      <td>1</td>\n",
       "      <td>0</td>\n",
       "      <td>Yes</td>\n",
       "      <td>Self-employed</td>\n",
       "      <td>Rural</td>\n",
       "      <td>174.120</td>\n",
       "      <td>24.000</td>\n",
       "      <td>never smoked</td>\n",
       "      <td>1</td>\n",
       "    </tr>\n",
       "    <tr>\n",
       "      <th>...</th>\n",
       "      <td>...</td>\n",
       "      <td>...</td>\n",
       "      <td>...</td>\n",
       "      <td>...</td>\n",
       "      <td>...</td>\n",
       "      <td>...</td>\n",
       "      <td>...</td>\n",
       "      <td>...</td>\n",
       "      <td>...</td>\n",
       "      <td>...</td>\n",
       "      <td>...</td>\n",
       "      <td>...</td>\n",
       "    </tr>\n",
       "    <tr>\n",
       "      <th>5105</th>\n",
       "      <td>18234</td>\n",
       "      <td>Female</td>\n",
       "      <td>80.000</td>\n",
       "      <td>1</td>\n",
       "      <td>0</td>\n",
       "      <td>Yes</td>\n",
       "      <td>Private</td>\n",
       "      <td>Urban</td>\n",
       "      <td>83.750</td>\n",
       "      <td>NaN</td>\n",
       "      <td>never smoked</td>\n",
       "      <td>0</td>\n",
       "    </tr>\n",
       "    <tr>\n",
       "      <th>5106</th>\n",
       "      <td>44873</td>\n",
       "      <td>Female</td>\n",
       "      <td>81.000</td>\n",
       "      <td>0</td>\n",
       "      <td>0</td>\n",
       "      <td>Yes</td>\n",
       "      <td>Self-employed</td>\n",
       "      <td>Urban</td>\n",
       "      <td>125.200</td>\n",
       "      <td>40.000</td>\n",
       "      <td>never smoked</td>\n",
       "      <td>0</td>\n",
       "    </tr>\n",
       "    <tr>\n",
       "      <th>5107</th>\n",
       "      <td>19723</td>\n",
       "      <td>Female</td>\n",
       "      <td>35.000</td>\n",
       "      <td>0</td>\n",
       "      <td>0</td>\n",
       "      <td>Yes</td>\n",
       "      <td>Self-employed</td>\n",
       "      <td>Rural</td>\n",
       "      <td>82.990</td>\n",
       "      <td>30.600</td>\n",
       "      <td>never smoked</td>\n",
       "      <td>0</td>\n",
       "    </tr>\n",
       "    <tr>\n",
       "      <th>5108</th>\n",
       "      <td>37544</td>\n",
       "      <td>Male</td>\n",
       "      <td>51.000</td>\n",
       "      <td>0</td>\n",
       "      <td>0</td>\n",
       "      <td>Yes</td>\n",
       "      <td>Private</td>\n",
       "      <td>Rural</td>\n",
       "      <td>166.290</td>\n",
       "      <td>25.600</td>\n",
       "      <td>formerly smoked</td>\n",
       "      <td>0</td>\n",
       "    </tr>\n",
       "    <tr>\n",
       "      <th>5109</th>\n",
       "      <td>44679</td>\n",
       "      <td>Female</td>\n",
       "      <td>44.000</td>\n",
       "      <td>0</td>\n",
       "      <td>0</td>\n",
       "      <td>Yes</td>\n",
       "      <td>Govt_job</td>\n",
       "      <td>Urban</td>\n",
       "      <td>85.280</td>\n",
       "      <td>26.200</td>\n",
       "      <td>Unknown</td>\n",
       "      <td>0</td>\n",
       "    </tr>\n",
       "  </tbody>\n",
       "</table>\n",
       "<p>5110 rows × 12 columns</p>\n",
       "</div>"
      ],
      "text/plain": [
       "         id  gender    age  hypertension  heart_disease ever_married  \\\n",
       "0      9046    Male 67.000             0              1          Yes   \n",
       "1     51676  Female 61.000             0              0          Yes   \n",
       "2     31112    Male 80.000             0              1          Yes   \n",
       "3     60182  Female 49.000             0              0          Yes   \n",
       "4      1665  Female 79.000             1              0          Yes   \n",
       "...     ...     ...    ...           ...            ...          ...   \n",
       "5105  18234  Female 80.000             1              0          Yes   \n",
       "5106  44873  Female 81.000             0              0          Yes   \n",
       "5107  19723  Female 35.000             0              0          Yes   \n",
       "5108  37544    Male 51.000             0              0          Yes   \n",
       "5109  44679  Female 44.000             0              0          Yes   \n",
       "\n",
       "          work_type Residence_type  avg_glucose_level    bmi   smoking_status  \\\n",
       "0           Private          Urban            228.690 36.600  formerly smoked   \n",
       "1     Self-employed          Rural            202.210    NaN     never smoked   \n",
       "2           Private          Rural            105.920 32.500     never smoked   \n",
       "3           Private          Urban            171.230 34.400           smokes   \n",
       "4     Self-employed          Rural            174.120 24.000     never smoked   \n",
       "...             ...            ...                ...    ...              ...   \n",
       "5105        Private          Urban             83.750    NaN     never smoked   \n",
       "5106  Self-employed          Urban            125.200 40.000     never smoked   \n",
       "5107  Self-employed          Rural             82.990 30.600     never smoked   \n",
       "5108        Private          Rural            166.290 25.600  formerly smoked   \n",
       "5109       Govt_job          Urban             85.280 26.200          Unknown   \n",
       "\n",
       "      stroke  \n",
       "0          1  \n",
       "1          1  \n",
       "2          1  \n",
       "3          1  \n",
       "4          1  \n",
       "...      ...  \n",
       "5105       0  \n",
       "5106       0  \n",
       "5107       0  \n",
       "5108       0  \n",
       "5109       0  \n",
       "\n",
       "[5110 rows x 12 columns]"
      ]
     },
     "execution_count": 5,
     "metadata": {},
     "output_type": "execute_result"
    }
   ],
   "source": [
    "df"
   ]
  },
  {
   "cell_type": "markdown",
   "id": "dbf2e3be",
   "metadata": {},
   "source": [
    "### - A General Looking at the Data"
   ]
  },
  {
   "cell_type": "code",
   "execution_count": 6,
   "id": "f8806d8c",
   "metadata": {},
   "outputs": [
    {
     "data": {
      "text/html": [
       "<div>\n",
       "<style scoped>\n",
       "    .dataframe tbody tr th:only-of-type {\n",
       "        vertical-align: middle;\n",
       "    }\n",
       "\n",
       "    .dataframe tbody tr th {\n",
       "        vertical-align: top;\n",
       "    }\n",
       "\n",
       "    .dataframe thead th {\n",
       "        text-align: right;\n",
       "    }\n",
       "</style>\n",
       "<table border=\"1\" class=\"dataframe\">\n",
       "  <thead>\n",
       "    <tr style=\"text-align: right;\">\n",
       "      <th></th>\n",
       "      <th>id</th>\n",
       "      <th>gender</th>\n",
       "      <th>age</th>\n",
       "      <th>hypertension</th>\n",
       "      <th>heart_disease</th>\n",
       "      <th>ever_married</th>\n",
       "      <th>work_type</th>\n",
       "      <th>Residence_type</th>\n",
       "      <th>avg_glucose_level</th>\n",
       "      <th>bmi</th>\n",
       "      <th>smoking_status</th>\n",
       "      <th>stroke</th>\n",
       "    </tr>\n",
       "  </thead>\n",
       "  <tbody>\n",
       "    <tr>\n",
       "      <th>0</th>\n",
       "      <td>9046</td>\n",
       "      <td>Male</td>\n",
       "      <td>67.000</td>\n",
       "      <td>0</td>\n",
       "      <td>1</td>\n",
       "      <td>Yes</td>\n",
       "      <td>Private</td>\n",
       "      <td>Urban</td>\n",
       "      <td>228.690</td>\n",
       "      <td>36.600</td>\n",
       "      <td>formerly smoked</td>\n",
       "      <td>1</td>\n",
       "    </tr>\n",
       "    <tr>\n",
       "      <th>1</th>\n",
       "      <td>51676</td>\n",
       "      <td>Female</td>\n",
       "      <td>61.000</td>\n",
       "      <td>0</td>\n",
       "      <td>0</td>\n",
       "      <td>Yes</td>\n",
       "      <td>Self-employed</td>\n",
       "      <td>Rural</td>\n",
       "      <td>202.210</td>\n",
       "      <td>NaN</td>\n",
       "      <td>never smoked</td>\n",
       "      <td>1</td>\n",
       "    </tr>\n",
       "    <tr>\n",
       "      <th>2</th>\n",
       "      <td>31112</td>\n",
       "      <td>Male</td>\n",
       "      <td>80.000</td>\n",
       "      <td>0</td>\n",
       "      <td>1</td>\n",
       "      <td>Yes</td>\n",
       "      <td>Private</td>\n",
       "      <td>Rural</td>\n",
       "      <td>105.920</td>\n",
       "      <td>32.500</td>\n",
       "      <td>never smoked</td>\n",
       "      <td>1</td>\n",
       "    </tr>\n",
       "    <tr>\n",
       "      <th>3</th>\n",
       "      <td>60182</td>\n",
       "      <td>Female</td>\n",
       "      <td>49.000</td>\n",
       "      <td>0</td>\n",
       "      <td>0</td>\n",
       "      <td>Yes</td>\n",
       "      <td>Private</td>\n",
       "      <td>Urban</td>\n",
       "      <td>171.230</td>\n",
       "      <td>34.400</td>\n",
       "      <td>smokes</td>\n",
       "      <td>1</td>\n",
       "    </tr>\n",
       "    <tr>\n",
       "      <th>4</th>\n",
       "      <td>1665</td>\n",
       "      <td>Female</td>\n",
       "      <td>79.000</td>\n",
       "      <td>1</td>\n",
       "      <td>0</td>\n",
       "      <td>Yes</td>\n",
       "      <td>Self-employed</td>\n",
       "      <td>Rural</td>\n",
       "      <td>174.120</td>\n",
       "      <td>24.000</td>\n",
       "      <td>never smoked</td>\n",
       "      <td>1</td>\n",
       "    </tr>\n",
       "  </tbody>\n",
       "</table>\n",
       "</div>"
      ],
      "text/plain": [
       "      id  gender    age  hypertension  heart_disease ever_married  \\\n",
       "0   9046    Male 67.000             0              1          Yes   \n",
       "1  51676  Female 61.000             0              0          Yes   \n",
       "2  31112    Male 80.000             0              1          Yes   \n",
       "3  60182  Female 49.000             0              0          Yes   \n",
       "4   1665  Female 79.000             1              0          Yes   \n",
       "\n",
       "       work_type Residence_type  avg_glucose_level    bmi   smoking_status  \\\n",
       "0        Private          Urban            228.690 36.600  formerly smoked   \n",
       "1  Self-employed          Rural            202.210    NaN     never smoked   \n",
       "2        Private          Rural            105.920 32.500     never smoked   \n",
       "3        Private          Urban            171.230 34.400           smokes   \n",
       "4  Self-employed          Rural            174.120 24.000     never smoked   \n",
       "\n",
       "   stroke  \n",
       "0       1  \n",
       "1       1  \n",
       "2       1  \n",
       "3       1  \n",
       "4       1  "
      ]
     },
     "execution_count": 6,
     "metadata": {},
     "output_type": "execute_result"
    }
   ],
   "source": [
    "#Check for top 5 datas using .head()\n",
    "df.head()"
   ]
  },
  {
   "cell_type": "code",
   "execution_count": 7,
   "id": "c1cc0fea",
   "metadata": {},
   "outputs": [
    {
     "data": {
      "text/html": [
       "<div>\n",
       "<style scoped>\n",
       "    .dataframe tbody tr th:only-of-type {\n",
       "        vertical-align: middle;\n",
       "    }\n",
       "\n",
       "    .dataframe tbody tr th {\n",
       "        vertical-align: top;\n",
       "    }\n",
       "\n",
       "    .dataframe thead th {\n",
       "        text-align: right;\n",
       "    }\n",
       "</style>\n",
       "<table border=\"1\" class=\"dataframe\">\n",
       "  <thead>\n",
       "    <tr style=\"text-align: right;\">\n",
       "      <th></th>\n",
       "      <th>id</th>\n",
       "      <th>gender</th>\n",
       "      <th>age</th>\n",
       "      <th>hypertension</th>\n",
       "      <th>heart_disease</th>\n",
       "      <th>ever_married</th>\n",
       "      <th>work_type</th>\n",
       "      <th>Residence_type</th>\n",
       "      <th>avg_glucose_level</th>\n",
       "      <th>bmi</th>\n",
       "      <th>smoking_status</th>\n",
       "      <th>stroke</th>\n",
       "    </tr>\n",
       "  </thead>\n",
       "  <tbody>\n",
       "    <tr>\n",
       "      <th>5105</th>\n",
       "      <td>18234</td>\n",
       "      <td>Female</td>\n",
       "      <td>80.000</td>\n",
       "      <td>1</td>\n",
       "      <td>0</td>\n",
       "      <td>Yes</td>\n",
       "      <td>Private</td>\n",
       "      <td>Urban</td>\n",
       "      <td>83.750</td>\n",
       "      <td>NaN</td>\n",
       "      <td>never smoked</td>\n",
       "      <td>0</td>\n",
       "    </tr>\n",
       "    <tr>\n",
       "      <th>5106</th>\n",
       "      <td>44873</td>\n",
       "      <td>Female</td>\n",
       "      <td>81.000</td>\n",
       "      <td>0</td>\n",
       "      <td>0</td>\n",
       "      <td>Yes</td>\n",
       "      <td>Self-employed</td>\n",
       "      <td>Urban</td>\n",
       "      <td>125.200</td>\n",
       "      <td>40.000</td>\n",
       "      <td>never smoked</td>\n",
       "      <td>0</td>\n",
       "    </tr>\n",
       "    <tr>\n",
       "      <th>5107</th>\n",
       "      <td>19723</td>\n",
       "      <td>Female</td>\n",
       "      <td>35.000</td>\n",
       "      <td>0</td>\n",
       "      <td>0</td>\n",
       "      <td>Yes</td>\n",
       "      <td>Self-employed</td>\n",
       "      <td>Rural</td>\n",
       "      <td>82.990</td>\n",
       "      <td>30.600</td>\n",
       "      <td>never smoked</td>\n",
       "      <td>0</td>\n",
       "    </tr>\n",
       "    <tr>\n",
       "      <th>5108</th>\n",
       "      <td>37544</td>\n",
       "      <td>Male</td>\n",
       "      <td>51.000</td>\n",
       "      <td>0</td>\n",
       "      <td>0</td>\n",
       "      <td>Yes</td>\n",
       "      <td>Private</td>\n",
       "      <td>Rural</td>\n",
       "      <td>166.290</td>\n",
       "      <td>25.600</td>\n",
       "      <td>formerly smoked</td>\n",
       "      <td>0</td>\n",
       "    </tr>\n",
       "    <tr>\n",
       "      <th>5109</th>\n",
       "      <td>44679</td>\n",
       "      <td>Female</td>\n",
       "      <td>44.000</td>\n",
       "      <td>0</td>\n",
       "      <td>0</td>\n",
       "      <td>Yes</td>\n",
       "      <td>Govt_job</td>\n",
       "      <td>Urban</td>\n",
       "      <td>85.280</td>\n",
       "      <td>26.200</td>\n",
       "      <td>Unknown</td>\n",
       "      <td>0</td>\n",
       "    </tr>\n",
       "  </tbody>\n",
       "</table>\n",
       "</div>"
      ],
      "text/plain": [
       "         id  gender    age  hypertension  heart_disease ever_married  \\\n",
       "5105  18234  Female 80.000             1              0          Yes   \n",
       "5106  44873  Female 81.000             0              0          Yes   \n",
       "5107  19723  Female 35.000             0              0          Yes   \n",
       "5108  37544    Male 51.000             0              0          Yes   \n",
       "5109  44679  Female 44.000             0              0          Yes   \n",
       "\n",
       "          work_type Residence_type  avg_glucose_level    bmi   smoking_status  \\\n",
       "5105        Private          Urban             83.750    NaN     never smoked   \n",
       "5106  Self-employed          Urban            125.200 40.000     never smoked   \n",
       "5107  Self-employed          Rural             82.990 30.600     never smoked   \n",
       "5108        Private          Rural            166.290 25.600  formerly smoked   \n",
       "5109       Govt_job          Urban             85.280 26.200          Unknown   \n",
       "\n",
       "      stroke  \n",
       "5105       0  \n",
       "5106       0  \n",
       "5107       0  \n",
       "5108       0  \n",
       "5109       0  "
      ]
     },
     "execution_count": 7,
     "metadata": {},
     "output_type": "execute_result"
    }
   ],
   "source": [
    "#Check for last 5 datas using .tail()\n",
    "df.tail()"
   ]
  },
  {
   "cell_type": "code",
   "execution_count": 8,
   "id": "e6c7fe74",
   "metadata": {},
   "outputs": [
    {
     "data": {
      "text/html": [
       "<div>\n",
       "<style scoped>\n",
       "    .dataframe tbody tr th:only-of-type {\n",
       "        vertical-align: middle;\n",
       "    }\n",
       "\n",
       "    .dataframe tbody tr th {\n",
       "        vertical-align: top;\n",
       "    }\n",
       "\n",
       "    .dataframe thead th {\n",
       "        text-align: right;\n",
       "    }\n",
       "</style>\n",
       "<table border=\"1\" class=\"dataframe\">\n",
       "  <thead>\n",
       "    <tr style=\"text-align: right;\">\n",
       "      <th></th>\n",
       "      <th>id</th>\n",
       "      <th>gender</th>\n",
       "      <th>age</th>\n",
       "      <th>hypertension</th>\n",
       "      <th>heart_disease</th>\n",
       "      <th>ever_married</th>\n",
       "      <th>work_type</th>\n",
       "      <th>Residence_type</th>\n",
       "      <th>avg_glucose_level</th>\n",
       "      <th>bmi</th>\n",
       "      <th>smoking_status</th>\n",
       "      <th>stroke</th>\n",
       "    </tr>\n",
       "  </thead>\n",
       "  <tbody>\n",
       "    <tr>\n",
       "      <th>4279</th>\n",
       "      <td>26025</td>\n",
       "      <td>Female</td>\n",
       "      <td>45.000</td>\n",
       "      <td>0</td>\n",
       "      <td>0</td>\n",
       "      <td>Yes</td>\n",
       "      <td>Govt_job</td>\n",
       "      <td>Urban</td>\n",
       "      <td>103.220</td>\n",
       "      <td>20.500</td>\n",
       "      <td>never smoked</td>\n",
       "      <td>0</td>\n",
       "    </tr>\n",
       "    <tr>\n",
       "      <th>2515</th>\n",
       "      <td>54807</td>\n",
       "      <td>Male</td>\n",
       "      <td>62.000</td>\n",
       "      <td>1</td>\n",
       "      <td>1</td>\n",
       "      <td>Yes</td>\n",
       "      <td>Private</td>\n",
       "      <td>Rural</td>\n",
       "      <td>176.250</td>\n",
       "      <td>NaN</td>\n",
       "      <td>never smoked</td>\n",
       "      <td>0</td>\n",
       "    </tr>\n",
       "    <tr>\n",
       "      <th>2827</th>\n",
       "      <td>67880</td>\n",
       "      <td>Male</td>\n",
       "      <td>5.000</td>\n",
       "      <td>0</td>\n",
       "      <td>0</td>\n",
       "      <td>No</td>\n",
       "      <td>children</td>\n",
       "      <td>Urban</td>\n",
       "      <td>148.520</td>\n",
       "      <td>20.600</td>\n",
       "      <td>Unknown</td>\n",
       "      <td>0</td>\n",
       "    </tr>\n",
       "    <tr>\n",
       "      <th>657</th>\n",
       "      <td>20364</td>\n",
       "      <td>Female</td>\n",
       "      <td>4.000</td>\n",
       "      <td>0</td>\n",
       "      <td>0</td>\n",
       "      <td>No</td>\n",
       "      <td>children</td>\n",
       "      <td>Urban</td>\n",
       "      <td>107.250</td>\n",
       "      <td>12.000</td>\n",
       "      <td>Unknown</td>\n",
       "      <td>0</td>\n",
       "    </tr>\n",
       "    <tr>\n",
       "      <th>281</th>\n",
       "      <td>45222</td>\n",
       "      <td>Male</td>\n",
       "      <td>58.000</td>\n",
       "      <td>1</td>\n",
       "      <td>0</td>\n",
       "      <td>No</td>\n",
       "      <td>Private</td>\n",
       "      <td>Urban</td>\n",
       "      <td>55.780</td>\n",
       "      <td>27.500</td>\n",
       "      <td>smokes</td>\n",
       "      <td>0</td>\n",
       "    </tr>\n",
       "    <tr>\n",
       "      <th>4695</th>\n",
       "      <td>46514</td>\n",
       "      <td>Female</td>\n",
       "      <td>50.000</td>\n",
       "      <td>0</td>\n",
       "      <td>0</td>\n",
       "      <td>Yes</td>\n",
       "      <td>Govt_job</td>\n",
       "      <td>Urban</td>\n",
       "      <td>100.930</td>\n",
       "      <td>32.700</td>\n",
       "      <td>never smoked</td>\n",
       "      <td>0</td>\n",
       "    </tr>\n",
       "    <tr>\n",
       "      <th>5089</th>\n",
       "      <td>56714</td>\n",
       "      <td>Female</td>\n",
       "      <td>0.720</td>\n",
       "      <td>0</td>\n",
       "      <td>0</td>\n",
       "      <td>No</td>\n",
       "      <td>children</td>\n",
       "      <td>Rural</td>\n",
       "      <td>62.130</td>\n",
       "      <td>16.800</td>\n",
       "      <td>Unknown</td>\n",
       "      <td>0</td>\n",
       "    </tr>\n",
       "    <tr>\n",
       "      <th>3530</th>\n",
       "      <td>58149</td>\n",
       "      <td>Female</td>\n",
       "      <td>21.000</td>\n",
       "      <td>0</td>\n",
       "      <td>0</td>\n",
       "      <td>No</td>\n",
       "      <td>Private</td>\n",
       "      <td>Rural</td>\n",
       "      <td>85.860</td>\n",
       "      <td>35.400</td>\n",
       "      <td>Unknown</td>\n",
       "      <td>0</td>\n",
       "    </tr>\n",
       "    <tr>\n",
       "      <th>3151</th>\n",
       "      <td>50489</td>\n",
       "      <td>Female</td>\n",
       "      <td>56.000</td>\n",
       "      <td>0</td>\n",
       "      <td>0</td>\n",
       "      <td>Yes</td>\n",
       "      <td>Govt_job</td>\n",
       "      <td>Urban</td>\n",
       "      <td>112.620</td>\n",
       "      <td>24.800</td>\n",
       "      <td>never smoked</td>\n",
       "      <td>0</td>\n",
       "    </tr>\n",
       "    <tr>\n",
       "      <th>4296</th>\n",
       "      <td>21677</td>\n",
       "      <td>Female</td>\n",
       "      <td>64.000</td>\n",
       "      <td>0</td>\n",
       "      <td>0</td>\n",
       "      <td>Yes</td>\n",
       "      <td>Private</td>\n",
       "      <td>Rural</td>\n",
       "      <td>75.130</td>\n",
       "      <td>31.100</td>\n",
       "      <td>formerly smoked</td>\n",
       "      <td>0</td>\n",
       "    </tr>\n",
       "  </tbody>\n",
       "</table>\n",
       "</div>"
      ],
      "text/plain": [
       "         id  gender    age  hypertension  heart_disease ever_married  \\\n",
       "4279  26025  Female 45.000             0              0          Yes   \n",
       "2515  54807    Male 62.000             1              1          Yes   \n",
       "2827  67880    Male  5.000             0              0           No   \n",
       "657   20364  Female  4.000             0              0           No   \n",
       "281   45222    Male 58.000             1              0           No   \n",
       "4695  46514  Female 50.000             0              0          Yes   \n",
       "5089  56714  Female  0.720             0              0           No   \n",
       "3530  58149  Female 21.000             0              0           No   \n",
       "3151  50489  Female 56.000             0              0          Yes   \n",
       "4296  21677  Female 64.000             0              0          Yes   \n",
       "\n",
       "     work_type Residence_type  avg_glucose_level    bmi   smoking_status  \\\n",
       "4279  Govt_job          Urban            103.220 20.500     never smoked   \n",
       "2515   Private          Rural            176.250    NaN     never smoked   \n",
       "2827  children          Urban            148.520 20.600          Unknown   \n",
       "657   children          Urban            107.250 12.000          Unknown   \n",
       "281    Private          Urban             55.780 27.500           smokes   \n",
       "4695  Govt_job          Urban            100.930 32.700     never smoked   \n",
       "5089  children          Rural             62.130 16.800          Unknown   \n",
       "3530   Private          Rural             85.860 35.400          Unknown   \n",
       "3151  Govt_job          Urban            112.620 24.800     never smoked   \n",
       "4296   Private          Rural             75.130 31.100  formerly smoked   \n",
       "\n",
       "      stroke  \n",
       "4279       0  \n",
       "2515       0  \n",
       "2827       0  \n",
       "657        0  \n",
       "281        0  \n",
       "4695       0  \n",
       "5089       0  \n",
       "3530       0  \n",
       "3151       0  \n",
       "4296       0  "
      ]
     },
     "execution_count": 8,
     "metadata": {},
     "output_type": "execute_result"
    }
   ],
   "source": [
    "#check for random datas using .sample()\n",
    "df.sample(10)"
   ]
  },
  {
   "cell_type": "code",
   "execution_count": 9,
   "id": "69bcb3e3",
   "metadata": {},
   "outputs": [
    {
     "data": {
      "text/plain": [
       "Index(['id', 'gender', 'age', 'hypertension', 'heart_disease', 'ever_married',\n",
       "       'work_type', 'Residence_type', 'avg_glucose_level', 'bmi',\n",
       "       'smoking_status', 'stroke'],\n",
       "      dtype='object')"
      ]
     },
     "execution_count": 9,
     "metadata": {},
     "output_type": "execute_result"
    }
   ],
   "source": [
    "#Columns present in the Dataset .columns\n",
    "df.columns"
   ]
  },
  {
   "cell_type": "code",
   "execution_count": 10,
   "id": "dc39e599",
   "metadata": {},
   "outputs": [
    {
     "name": "stdout",
     "output_type": "stream",
     "text": [
      "There is 5110 observation and 12 columns in the dataset\n"
     ]
    }
   ],
   "source": [
    "#Check for rows and columns in the dataset using .shape()\n",
    "print(\"There is\", df.shape[0], \"observation and\", df.shape[1], \"columns in the dataset\")"
   ]
  },
  {
   "cell_type": "code",
   "execution_count": 11,
   "id": "03834ad5",
   "metadata": {},
   "outputs": [
    {
     "name": "stdout",
     "output_type": "stream",
     "text": [
      "<class 'pandas.core.frame.DataFrame'>\n",
      "RangeIndex: 5110 entries, 0 to 5109\n",
      "Data columns (total 12 columns):\n",
      " #   Column             Non-Null Count  Dtype  \n",
      "---  ------             --------------  -----  \n",
      " 0   id                 5110 non-null   int64  \n",
      " 1   gender             5110 non-null   object \n",
      " 2   age                5110 non-null   float64\n",
      " 3   hypertension       5110 non-null   int64  \n",
      " 4   heart_disease      5110 non-null   int64  \n",
      " 5   ever_married       5110 non-null   object \n",
      " 6   work_type          5110 non-null   object \n",
      " 7   Residence_type     5110 non-null   object \n",
      " 8   avg_glucose_level  5110 non-null   float64\n",
      " 9   bmi                4909 non-null   float64\n",
      " 10  smoking_status     5110 non-null   object \n",
      " 11  stroke             5110 non-null   int64  \n",
      "dtypes: float64(3), int64(4), object(5)\n",
      "memory usage: 479.2+ KB\n"
     ]
    }
   ],
   "source": [
    "#Check for their Count and Datatype using .info()\n",
    "df.info()"
   ]
  },
  {
   "cell_type": "markdown",
   "id": "db6182b8",
   "metadata": {},
   "source": [
    "### Statistical analysis"
   ]
  },
  {
   "cell_type": "code",
   "execution_count": 12,
   "id": "f43a6239",
   "metadata": {},
   "outputs": [
    {
     "data": {
      "text/html": [
       "<div>\n",
       "<style scoped>\n",
       "    .dataframe tbody tr th:only-of-type {\n",
       "        vertical-align: middle;\n",
       "    }\n",
       "\n",
       "    .dataframe tbody tr th {\n",
       "        vertical-align: top;\n",
       "    }\n",
       "\n",
       "    .dataframe thead th {\n",
       "        text-align: right;\n",
       "    }\n",
       "</style>\n",
       "<table border=\"1\" class=\"dataframe\">\n",
       "  <thead>\n",
       "    <tr style=\"text-align: right;\">\n",
       "      <th></th>\n",
       "      <th>id</th>\n",
       "      <th>age</th>\n",
       "      <th>hypertension</th>\n",
       "      <th>heart_disease</th>\n",
       "      <th>avg_glucose_level</th>\n",
       "      <th>bmi</th>\n",
       "      <th>stroke</th>\n",
       "    </tr>\n",
       "  </thead>\n",
       "  <tbody>\n",
       "    <tr>\n",
       "      <th>count</th>\n",
       "      <td>5110.000</td>\n",
       "      <td>5110.000</td>\n",
       "      <td>5110.000</td>\n",
       "      <td>5110.000</td>\n",
       "      <td>5110.000</td>\n",
       "      <td>4909.000</td>\n",
       "      <td>5110.000</td>\n",
       "    </tr>\n",
       "    <tr>\n",
       "      <th>mean</th>\n",
       "      <td>36517.829</td>\n",
       "      <td>43.227</td>\n",
       "      <td>0.097</td>\n",
       "      <td>0.054</td>\n",
       "      <td>106.148</td>\n",
       "      <td>28.893</td>\n",
       "      <td>0.049</td>\n",
       "    </tr>\n",
       "    <tr>\n",
       "      <th>std</th>\n",
       "      <td>21161.722</td>\n",
       "      <td>22.613</td>\n",
       "      <td>0.297</td>\n",
       "      <td>0.226</td>\n",
       "      <td>45.284</td>\n",
       "      <td>7.854</td>\n",
       "      <td>0.215</td>\n",
       "    </tr>\n",
       "    <tr>\n",
       "      <th>min</th>\n",
       "      <td>67.000</td>\n",
       "      <td>0.080</td>\n",
       "      <td>0.000</td>\n",
       "      <td>0.000</td>\n",
       "      <td>55.120</td>\n",
       "      <td>10.300</td>\n",
       "      <td>0.000</td>\n",
       "    </tr>\n",
       "    <tr>\n",
       "      <th>25%</th>\n",
       "      <td>17741.250</td>\n",
       "      <td>25.000</td>\n",
       "      <td>0.000</td>\n",
       "      <td>0.000</td>\n",
       "      <td>77.245</td>\n",
       "      <td>23.500</td>\n",
       "      <td>0.000</td>\n",
       "    </tr>\n",
       "    <tr>\n",
       "      <th>50%</th>\n",
       "      <td>36932.000</td>\n",
       "      <td>45.000</td>\n",
       "      <td>0.000</td>\n",
       "      <td>0.000</td>\n",
       "      <td>91.885</td>\n",
       "      <td>28.100</td>\n",
       "      <td>0.000</td>\n",
       "    </tr>\n",
       "    <tr>\n",
       "      <th>75%</th>\n",
       "      <td>54682.000</td>\n",
       "      <td>61.000</td>\n",
       "      <td>0.000</td>\n",
       "      <td>0.000</td>\n",
       "      <td>114.090</td>\n",
       "      <td>33.100</td>\n",
       "      <td>0.000</td>\n",
       "    </tr>\n",
       "    <tr>\n",
       "      <th>max</th>\n",
       "      <td>72940.000</td>\n",
       "      <td>82.000</td>\n",
       "      <td>1.000</td>\n",
       "      <td>1.000</td>\n",
       "      <td>271.740</td>\n",
       "      <td>97.600</td>\n",
       "      <td>1.000</td>\n",
       "    </tr>\n",
       "  </tbody>\n",
       "</table>\n",
       "</div>"
      ],
      "text/plain": [
       "             id      age  hypertension  heart_disease  avg_glucose_level  \\\n",
       "count  5110.000 5110.000      5110.000       5110.000           5110.000   \n",
       "mean  36517.829   43.227         0.097          0.054            106.148   \n",
       "std   21161.722   22.613         0.297          0.226             45.284   \n",
       "min      67.000    0.080         0.000          0.000             55.120   \n",
       "25%   17741.250   25.000         0.000          0.000             77.245   \n",
       "50%   36932.000   45.000         0.000          0.000             91.885   \n",
       "75%   54682.000   61.000         0.000          0.000            114.090   \n",
       "max   72940.000   82.000         1.000          1.000            271.740   \n",
       "\n",
       "           bmi   stroke  \n",
       "count 4909.000 5110.000  \n",
       "mean    28.893    0.049  \n",
       "std      7.854    0.215  \n",
       "min     10.300    0.000  \n",
       "25%     23.500    0.000  \n",
       "50%     28.100    0.000  \n",
       "75%     33.100    0.000  \n",
       "max     97.600    1.000  "
      ]
     },
     "execution_count": 12,
     "metadata": {},
     "output_type": "execute_result"
    }
   ],
   "source": [
    "df.describe()"
   ]
  },
  {
   "cell_type": "markdown",
   "id": "f05ef87a",
   "metadata": {},
   "source": [
    "### Drop ID Columns"
   ]
  },
  {
   "cell_type": "code",
   "execution_count": 13,
   "id": "1958ee5e",
   "metadata": {},
   "outputs": [],
   "source": [
    "df=df.drop(['id'],axis=1)"
   ]
  },
  {
   "cell_type": "code",
   "execution_count": 14,
   "id": "3447cb54",
   "metadata": {},
   "outputs": [
    {
     "name": "stdout",
     "output_type": "stream",
     "text": [
      "<class 'pandas.core.frame.DataFrame'>\n",
      "RangeIndex: 5110 entries, 0 to 5109\n",
      "Data columns (total 11 columns):\n",
      " #   Column             Non-Null Count  Dtype  \n",
      "---  ------             --------------  -----  \n",
      " 0   gender             5110 non-null   object \n",
      " 1   age                5110 non-null   float64\n",
      " 2   hypertension       5110 non-null   int64  \n",
      " 3   heart_disease      5110 non-null   int64  \n",
      " 4   ever_married       5110 non-null   object \n",
      " 5   work_type          5110 non-null   object \n",
      " 6   Residence_type     5110 non-null   object \n",
      " 7   avg_glucose_level  5110 non-null   float64\n",
      " 8   bmi                4909 non-null   float64\n",
      " 9   smoking_status     5110 non-null   object \n",
      " 10  stroke             5110 non-null   int64  \n",
      "dtypes: float64(3), int64(3), object(5)\n",
      "memory usage: 439.3+ KB\n"
     ]
    }
   ],
   "source": [
    "df.info()"
   ]
  },
  {
   "cell_type": "markdown",
   "id": "8b2fdba7",
   "metadata": {},
   "source": [
    "### Checking the missing values"
   ]
  },
  {
   "cell_type": "code",
   "execution_count": 15,
   "id": "ba09e9d8",
   "metadata": {},
   "outputs": [
    {
     "data": {
      "text/plain": [
       "gender                 0\n",
       "age                    0\n",
       "hypertension           0\n",
       "heart_disease          0\n",
       "ever_married           0\n",
       "work_type              0\n",
       "Residence_type         0\n",
       "avg_glucose_level      0\n",
       "bmi                  201\n",
       "smoking_status         0\n",
       "stroke                 0\n",
       "dtype: int64"
      ]
     },
     "execution_count": 15,
     "metadata": {},
     "output_type": "execute_result"
    }
   ],
   "source": [
    "df.isnull().sum()"
   ]
  },
  {
   "cell_type": "markdown",
   "id": "28e3bc0d",
   "metadata": {},
   "source": [
    "### We have,\n",
    " - Categorical features: 7 (gender, hypertension, heart_disease, ever_married, work_type, Residence_type, smoking_status) \n",
    " - Numerical features: 3 (age, avg_glucose_level, bmi)"
   ]
  },
  {
   "cell_type": "code",
   "execution_count": 16,
   "id": "c340d106",
   "metadata": {},
   "outputs": [],
   "source": [
    "cat_cols =  [\"gender\", \"hypertension\", \"heart_disease\", \"ever_married\", \"work_type\", \"Residence_type\", \"smoking_status\"]\n",
    "num_cols = ['age','avg_glucose_level','bmi']"
   ]
  },
  {
   "cell_type": "markdown",
   "id": "e105c893",
   "metadata": {},
   "source": [
    "Only one feature have missing values(0.009%), we will have to someways to fill it. "
   ]
  },
  {
   "cell_type": "markdown",
   "id": "144835d3",
   "metadata": {},
   "source": [
    "## Now EDA"
   ]
  },
  {
   "cell_type": "markdown",
   "id": "6361cb51",
   "metadata": {},
   "source": [
    "### 1.Univariate Analysis"
   ]
  },
  {
   "cell_type": "markdown",
   "id": "c8002c57",
   "metadata": {},
   "source": [
    "Analysing realationship of all features w.r.t target"
   ]
  },
  {
   "cell_type": "code",
   "execution_count": 17,
   "id": "cfca4e06",
   "metadata": {},
   "outputs": [
    {
     "data": {
      "text/plain": [
       "<AxesSubplot:xlabel='gender', ylabel='count'>"
      ]
     },
     "execution_count": 17,
     "metadata": {},
     "output_type": "execute_result"
    },
    {
     "data": {
      "image/png": "[encoded data removed]",
      "text/plain": [
       "<Figure size 720x432 with 1 Axes>"
      ]
     },
     "metadata": {
      "needs_background": "light"
     },
     "output_type": "display_data"
    }
   ],
   "source": [
    "sns.countplot(x=\"gender\",data=df)"
   ]
  },
  {
   "cell_type": "markdown",
   "id": "0473d953",
   "metadata": {},
   "source": [
    "We have to keep in mind that in this data, females are more compared to male."
   ]
  },
  {
   "cell_type": "code",
   "execution_count": 18,
   "id": "29090b4a",
   "metadata": {},
   "outputs": [
    {
     "data": {
      "text/plain": [
       "<AxesSubplot:xlabel='stroke', ylabel='bmi'>"
      ]
     },
     "execution_count": 18,
     "metadata": {},
     "output_type": "execute_result"
    },
    {
     "data": {
      "image/png": "[encoded data removed]",
      "text/plain": [
       "<Figure size 1152x360 with 3 Axes>"
      ]
     },
     "metadata": {
      "needs_background": "light"
     },
     "output_type": "display_data"
    }
   ],
   "source": [
    "num_cols = ['age','avg_glucose_level','bmi']\n",
    "plt.figure(figsize=(16, 5))\n",
    "plt.subplot(1, 3,1)\n",
    "sns.stripplot(data=df, x='stroke',y='age')\n",
    "plt.subplot(1, 3,2)\n",
    "sns.stripplot(data=df, x='stroke',y='avg_glucose_level')\n",
    "plt.subplot(1, 3,3)\n",
    "sns.stripplot(data=df, x='stroke',y='bmi')"
   ]
  },
  {
   "cell_type": "markdown",
   "id": "5992e977",
   "metadata": {},
   "source": [
    "### Conclusions"
   ]
  },
  {
   "cell_type": "markdown",
   "id": "94b81142",
   "metadata": {},
   "source": [
    "Almost all patients who have got stroke are above 50 years of age.But some are below 40, exceptionally 2 patients are below 20. Patients who got stroke were either with low glucose level or high glucose level but low glucose level patients have more probability of getting stroke. Mostly stroke patients have 'bmi' in range of 20-40."
   ]
  },
  {
   "cell_type": "code",
   "execution_count": 19,
   "id": "6402f2f0",
   "metadata": {},
   "outputs": [
    {
     "data": {
      "text/plain": [
       "<AxesSubplot:xlabel='bmi', ylabel='Count'>"
      ]
     },
     "execution_count": 19,
     "metadata": {},
     "output_type": "execute_result"
    },
    {
     "data": {
      "image/png": "[encoded data removed]",
      "text/plain": [
       "<Figure size 1152x360 with 3 Axes>"
      ]
     },
     "metadata": {
      "needs_background": "light"
     },
     "output_type": "display_data"
    }
   ],
   "source": [
    "#distribution of numerical columns\n",
    "\n",
    "num_cols = ['age','avg_glucose_level','bmi']\n",
    "plt.figure(figsize=(16, 5))\n",
    "plt.subplot(1, 3,1)\n",
    "sns.histplot(data=df,x='age',kde=True)\n",
    "plt.subplot(1, 3,2)\n",
    "sns.histplot(data=df,x='avg_glucose_level',kde=True)\n",
    "plt.subplot(1, 3,3)\n",
    "sns.histplot(data=df,x='bmi',kde=True)"
   ]
  },
  {
   "cell_type": "code",
   "execution_count": 20,
   "id": "8a6374cf",
   "metadata": {},
   "outputs": [
    {
     "data": {
      "text/plain": [
       "<AxesSubplot:xlabel='bmi'>"
      ]
     },
     "execution_count": 20,
     "metadata": {},
     "output_type": "execute_result"
    },
    {
     "data": {
      "image/png": "[encoded data removed]",
      "text/plain": [
       "<Figure size 1152x360 with 3 Axes>"
      ]
     },
     "metadata": {
      "needs_background": "light"
     },
     "output_type": "display_data"
    }
   ],
   "source": [
    "plt.figure(figsize=(16, 5))\n",
    "plt.subplot(1, 3,1)\n",
    "sns.boxplot(x=df['age'],palette=\"blend:#7AB,#EDA\")\n",
    "plt.subplot(1, 3,2)\n",
    "sns.boxplot(x=df['avg_glucose_level'],palette=\"Spectral\")\n",
    "plt.subplot(1, 3,3)\n",
    "sns.boxplot(x=df['bmi'],palette=\"dark:#5A9_r\")"
   ]
  },
  {
   "cell_type": "markdown",
   "id": "554719bc",
   "metadata": {},
   "source": [
    "### Conclusions:"
   ]
  },
  {
   "cell_type": "markdown",
   "id": "86915c7a",
   "metadata": {},
   "source": [
    " - bmi have some outliers"
   ]
  },
  {
   "cell_type": "markdown",
   "id": "b470404a",
   "metadata": {},
   "source": [
    "### Removing Undefined data in an column"
   ]
  },
  {
   "cell_type": "markdown",
   "id": "9ae9ee89",
   "metadata": {},
   "source": [
    "In the \"gender\" column there has been an undefined classification which makes no contribution to understand stroke. So let's discard this row from the analysis"
   ]
  },
  {
   "cell_type": "code",
   "execution_count": 21,
   "id": "b4036a48",
   "metadata": {},
   "outputs": [
    {
     "data": {
      "text/plain": [
       "Female    2994\n",
       "Male      2115\n",
       "Other        1\n",
       "Name: gender, dtype: int64"
      ]
     },
     "execution_count": 21,
     "metadata": {},
     "output_type": "execute_result"
    }
   ],
   "source": [
    "df.gender.value_counts()"
   ]
  },
  {
   "cell_type": "code",
   "execution_count": 22,
   "id": "b570ef6b",
   "metadata": {},
   "outputs": [],
   "source": [
    "df[\"gender\"].replace({\"Other\": \"Male\"}, inplace=True)"
   ]
  },
  {
   "cell_type": "code",
   "execution_count": 23,
   "id": "bfd024ac",
   "metadata": {},
   "outputs": [
    {
     "data": {
      "text/plain": [
       "Female    2994\n",
       "Male      2116\n",
       "Name: gender, dtype: int64"
      ]
     },
     "execution_count": 23,
     "metadata": {},
     "output_type": "execute_result"
    }
   ],
   "source": [
    "df.gender.value_counts()"
   ]
  },
  {
   "cell_type": "code",
   "execution_count": 24,
   "id": "afffaa28",
   "metadata": {},
   "outputs": [
    {
     "data": {
      "image/png": "[encoded data removed]",
      "text/plain": [
       "<Figure size 1080x576 with 9 Axes>"
      ]
     },
     "metadata": {
      "needs_background": "light"
     },
     "output_type": "display_data"
    }
   ],
   "source": [
    "# plots between categoical features and target\n",
    "ncols =3\n",
    "cat_cols =  [\"gender\", \"hypertension\", \"heart_disease\", \"ever_married\", \"work_type\", \"Residence_type\", \"smoking_status\"]\n",
    "\n",
    "fig,ax = plt.subplots(3, 3,figsize=(15, 8))\n",
    "\n",
    "for idx, feature in enumerate(cat_cols):\n",
    "    row = idx//ncols\n",
    "    col = idx% ncols\n",
    "    sns.countplot(data=df, x=feature, hue='stroke',ax =ax[row,col])\n",
    "    \n",
    "plt.tight_layout() "
   ]
  },
  {
   "cell_type": "markdown",
   "id": "19df475f",
   "metadata": {},
   "source": [
    "### Conclusions"
   ]
  },
  {
   "cell_type": "markdown",
   "id": "85f0313a",
   "metadata": {},
   "source": [
    " - Interestingly,the ratio of getting stroke is same whether patient is from rural and urban.\n",
    " - Patients who ever-married,are getting more strokes than non-married.\n",
    " - Ratio of getting stroke or not is same for Private and self-employed people.\n",
    " - If patient is non-smoker, he or she have less chance of getting stroke and their ratio from barely smoker is almost same.\n",
    " \n",
    " For getting the correlation between all features and target, we have to fill Nan values and encode all categorical columns. Let's do it."
   ]
  },
  {
   "cell_type": "markdown",
   "id": "4eef3a03",
   "metadata": {},
   "source": [
    "### Imputing missing BMI values with its median value"
   ]
  },
  {
   "cell_type": "code",
   "execution_count": 25,
   "id": "8e696fed",
   "metadata": {},
   "outputs": [],
   "source": [
    "from sklearn.impute import SimpleImputer\n",
    "\n",
    "imp = SimpleImputer(missing_values=np.nan, strategy='median')\n",
    "df['bmi'] = imp.fit_transform(df[[\"bmi\"]]) "
   ]
  },
  {
   "cell_type": "markdown",
   "id": "0964dbfc",
   "metadata": {},
   "source": [
    "### Converting  categorical variables with numerically coded values"
   ]
  },
  {
   "cell_type": "code",
   "execution_count": 26,
   "id": "fc530b71",
   "metadata": {},
   "outputs": [],
   "source": [
    "#Encoding \n",
    "from sklearn.preprocessing import OrdinalEncoder\n",
    "\n",
    "enc_col =[\"gender\", \"work_type\",'ever_married',\"Residence_type\",\"smoking_status\"]\n",
    "enc = OrdinalEncoder()\n",
    "df[enc_col] = enc.fit_transform(df[enc_col])"
   ]
  },
  {
   "cell_type": "code",
   "execution_count": 27,
   "id": "08a3edf5",
   "metadata": {},
   "outputs": [
    {
     "data": {
      "text/html": [
       "<div>\n",
       "<style scoped>\n",
       "    .dataframe tbody tr th:only-of-type {\n",
       "        vertical-align: middle;\n",
       "    }\n",
       "\n",
       "    .dataframe tbody tr th {\n",
       "        vertical-align: top;\n",
       "    }\n",
       "\n",
       "    .dataframe thead th {\n",
       "        text-align: right;\n",
       "    }\n",
       "</style>\n",
       "<table border=\"1\" class=\"dataframe\">\n",
       "  <thead>\n",
       "    <tr style=\"text-align: right;\">\n",
       "      <th></th>\n",
       "      <th>gender</th>\n",
       "      <th>age</th>\n",
       "      <th>hypertension</th>\n",
       "      <th>heart_disease</th>\n",
       "      <th>ever_married</th>\n",
       "      <th>work_type</th>\n",
       "      <th>Residence_type</th>\n",
       "      <th>avg_glucose_level</th>\n",
       "      <th>bmi</th>\n",
       "      <th>smoking_status</th>\n",
       "      <th>stroke</th>\n",
       "    </tr>\n",
       "  </thead>\n",
       "  <tbody>\n",
       "    <tr>\n",
       "      <th>0</th>\n",
       "      <td>1.000</td>\n",
       "      <td>67.000</td>\n",
       "      <td>0</td>\n",
       "      <td>1</td>\n",
       "      <td>1.000</td>\n",
       "      <td>2.000</td>\n",
       "      <td>1.000</td>\n",
       "      <td>228.690</td>\n",
       "      <td>36.600</td>\n",
       "      <td>1.000</td>\n",
       "      <td>1</td>\n",
       "    </tr>\n",
       "    <tr>\n",
       "      <th>1</th>\n",
       "      <td>0.000</td>\n",
       "      <td>61.000</td>\n",
       "      <td>0</td>\n",
       "      <td>0</td>\n",
       "      <td>1.000</td>\n",
       "      <td>3.000</td>\n",
       "      <td>0.000</td>\n",
       "      <td>202.210</td>\n",
       "      <td>28.100</td>\n",
       "      <td>2.000</td>\n",
       "      <td>1</td>\n",
       "    </tr>\n",
       "    <tr>\n",
       "      <th>2</th>\n",
       "      <td>1.000</td>\n",
       "      <td>80.000</td>\n",
       "      <td>0</td>\n",
       "      <td>1</td>\n",
       "      <td>1.000</td>\n",
       "      <td>2.000</td>\n",
       "      <td>0.000</td>\n",
       "      <td>105.920</td>\n",
       "      <td>32.500</td>\n",
       "      <td>2.000</td>\n",
       "      <td>1</td>\n",
       "    </tr>\n",
       "    <tr>\n",
       "      <th>3</th>\n",
       "      <td>0.000</td>\n",
       "      <td>49.000</td>\n",
       "      <td>0</td>\n",
       "      <td>0</td>\n",
       "      <td>1.000</td>\n",
       "      <td>2.000</td>\n",
       "      <td>1.000</td>\n",
       "      <td>171.230</td>\n",
       "      <td>34.400</td>\n",
       "      <td>3.000</td>\n",
       "      <td>1</td>\n",
       "    </tr>\n",
       "    <tr>\n",
       "      <th>4</th>\n",
       "      <td>0.000</td>\n",
       "      <td>79.000</td>\n",
       "      <td>1</td>\n",
       "      <td>0</td>\n",
       "      <td>1.000</td>\n",
       "      <td>3.000</td>\n",
       "      <td>0.000</td>\n",
       "      <td>174.120</td>\n",
       "      <td>24.000</td>\n",
       "      <td>2.000</td>\n",
       "      <td>1</td>\n",
       "    </tr>\n",
       "    <tr>\n",
       "      <th>5</th>\n",
       "      <td>1.000</td>\n",
       "      <td>81.000</td>\n",
       "      <td>0</td>\n",
       "      <td>0</td>\n",
       "      <td>1.000</td>\n",
       "      <td>2.000</td>\n",
       "      <td>1.000</td>\n",
       "      <td>186.210</td>\n",
       "      <td>29.000</td>\n",
       "      <td>1.000</td>\n",
       "      <td>1</td>\n",
       "    </tr>\n",
       "    <tr>\n",
       "      <th>6</th>\n",
       "      <td>1.000</td>\n",
       "      <td>74.000</td>\n",
       "      <td>1</td>\n",
       "      <td>1</td>\n",
       "      <td>1.000</td>\n",
       "      <td>2.000</td>\n",
       "      <td>0.000</td>\n",
       "      <td>70.090</td>\n",
       "      <td>27.400</td>\n",
       "      <td>2.000</td>\n",
       "      <td>1</td>\n",
       "    </tr>\n",
       "    <tr>\n",
       "      <th>7</th>\n",
       "      <td>0.000</td>\n",
       "      <td>69.000</td>\n",
       "      <td>0</td>\n",
       "      <td>0</td>\n",
       "      <td>0.000</td>\n",
       "      <td>2.000</td>\n",
       "      <td>1.000</td>\n",
       "      <td>94.390</td>\n",
       "      <td>22.800</td>\n",
       "      <td>2.000</td>\n",
       "      <td>1</td>\n",
       "    </tr>\n",
       "    <tr>\n",
       "      <th>8</th>\n",
       "      <td>0.000</td>\n",
       "      <td>59.000</td>\n",
       "      <td>0</td>\n",
       "      <td>0</td>\n",
       "      <td>1.000</td>\n",
       "      <td>2.000</td>\n",
       "      <td>0.000</td>\n",
       "      <td>76.150</td>\n",
       "      <td>28.100</td>\n",
       "      <td>0.000</td>\n",
       "      <td>1</td>\n",
       "    </tr>\n",
       "    <tr>\n",
       "      <th>9</th>\n",
       "      <td>0.000</td>\n",
       "      <td>78.000</td>\n",
       "      <td>0</td>\n",
       "      <td>0</td>\n",
       "      <td>1.000</td>\n",
       "      <td>2.000</td>\n",
       "      <td>1.000</td>\n",
       "      <td>58.570</td>\n",
       "      <td>24.200</td>\n",
       "      <td>0.000</td>\n",
       "      <td>1</td>\n",
       "    </tr>\n",
       "    <tr>\n",
       "      <th>10</th>\n",
       "      <td>0.000</td>\n",
       "      <td>81.000</td>\n",
       "      <td>1</td>\n",
       "      <td>0</td>\n",
       "      <td>1.000</td>\n",
       "      <td>2.000</td>\n",
       "      <td>0.000</td>\n",
       "      <td>80.430</td>\n",
       "      <td>29.700</td>\n",
       "      <td>2.000</td>\n",
       "      <td>1</td>\n",
       "    </tr>\n",
       "    <tr>\n",
       "      <th>11</th>\n",
       "      <td>0.000</td>\n",
       "      <td>61.000</td>\n",
       "      <td>0</td>\n",
       "      <td>1</td>\n",
       "      <td>1.000</td>\n",
       "      <td>0.000</td>\n",
       "      <td>0.000</td>\n",
       "      <td>120.460</td>\n",
       "      <td>36.800</td>\n",
       "      <td>3.000</td>\n",
       "      <td>1</td>\n",
       "    </tr>\n",
       "    <tr>\n",
       "      <th>12</th>\n",
       "      <td>0.000</td>\n",
       "      <td>54.000</td>\n",
       "      <td>0</td>\n",
       "      <td>0</td>\n",
       "      <td>1.000</td>\n",
       "      <td>2.000</td>\n",
       "      <td>1.000</td>\n",
       "      <td>104.510</td>\n",
       "      <td>27.300</td>\n",
       "      <td>3.000</td>\n",
       "      <td>1</td>\n",
       "    </tr>\n",
       "    <tr>\n",
       "      <th>13</th>\n",
       "      <td>1.000</td>\n",
       "      <td>78.000</td>\n",
       "      <td>0</td>\n",
       "      <td>1</td>\n",
       "      <td>1.000</td>\n",
       "      <td>2.000</td>\n",
       "      <td>1.000</td>\n",
       "      <td>219.840</td>\n",
       "      <td>28.100</td>\n",
       "      <td>0.000</td>\n",
       "      <td>1</td>\n",
       "    </tr>\n",
       "    <tr>\n",
       "      <th>14</th>\n",
       "      <td>0.000</td>\n",
       "      <td>79.000</td>\n",
       "      <td>0</td>\n",
       "      <td>1</td>\n",
       "      <td>1.000</td>\n",
       "      <td>2.000</td>\n",
       "      <td>1.000</td>\n",
       "      <td>214.090</td>\n",
       "      <td>28.200</td>\n",
       "      <td>2.000</td>\n",
       "      <td>1</td>\n",
       "    </tr>\n",
       "    <tr>\n",
       "      <th>15</th>\n",
       "      <td>0.000</td>\n",
       "      <td>50.000</td>\n",
       "      <td>1</td>\n",
       "      <td>0</td>\n",
       "      <td>1.000</td>\n",
       "      <td>3.000</td>\n",
       "      <td>0.000</td>\n",
       "      <td>167.410</td>\n",
       "      <td>30.900</td>\n",
       "      <td>2.000</td>\n",
       "      <td>1</td>\n",
       "    </tr>\n",
       "    <tr>\n",
       "      <th>16</th>\n",
       "      <td>1.000</td>\n",
       "      <td>64.000</td>\n",
       "      <td>0</td>\n",
       "      <td>1</td>\n",
       "      <td>1.000</td>\n",
       "      <td>2.000</td>\n",
       "      <td>1.000</td>\n",
       "      <td>191.610</td>\n",
       "      <td>37.500</td>\n",
       "      <td>3.000</td>\n",
       "      <td>1</td>\n",
       "    </tr>\n",
       "    <tr>\n",
       "      <th>17</th>\n",
       "      <td>1.000</td>\n",
       "      <td>75.000</td>\n",
       "      <td>1</td>\n",
       "      <td>0</td>\n",
       "      <td>1.000</td>\n",
       "      <td>2.000</td>\n",
       "      <td>1.000</td>\n",
       "      <td>221.290</td>\n",
       "      <td>25.800</td>\n",
       "      <td>3.000</td>\n",
       "      <td>1</td>\n",
       "    </tr>\n",
       "    <tr>\n",
       "      <th>18</th>\n",
       "      <td>0.000</td>\n",
       "      <td>60.000</td>\n",
       "      <td>0</td>\n",
       "      <td>0</td>\n",
       "      <td>0.000</td>\n",
       "      <td>2.000</td>\n",
       "      <td>1.000</td>\n",
       "      <td>89.220</td>\n",
       "      <td>37.800</td>\n",
       "      <td>2.000</td>\n",
       "      <td>1</td>\n",
       "    </tr>\n",
       "    <tr>\n",
       "      <th>19</th>\n",
       "      <td>1.000</td>\n",
       "      <td>57.000</td>\n",
       "      <td>0</td>\n",
       "      <td>1</td>\n",
       "      <td>0.000</td>\n",
       "      <td>0.000</td>\n",
       "      <td>1.000</td>\n",
       "      <td>217.080</td>\n",
       "      <td>28.100</td>\n",
       "      <td>0.000</td>\n",
       "      <td>1</td>\n",
       "    </tr>\n",
       "    <tr>\n",
       "      <th>20</th>\n",
       "      <td>0.000</td>\n",
       "      <td>71.000</td>\n",
       "      <td>0</td>\n",
       "      <td>0</td>\n",
       "      <td>1.000</td>\n",
       "      <td>0.000</td>\n",
       "      <td>0.000</td>\n",
       "      <td>193.940</td>\n",
       "      <td>22.400</td>\n",
       "      <td>3.000</td>\n",
       "      <td>1</td>\n",
       "    </tr>\n",
       "    <tr>\n",
       "      <th>21</th>\n",
       "      <td>0.000</td>\n",
       "      <td>52.000</td>\n",
       "      <td>1</td>\n",
       "      <td>0</td>\n",
       "      <td>1.000</td>\n",
       "      <td>3.000</td>\n",
       "      <td>1.000</td>\n",
       "      <td>233.290</td>\n",
       "      <td>48.900</td>\n",
       "      <td>2.000</td>\n",
       "      <td>1</td>\n",
       "    </tr>\n",
       "    <tr>\n",
       "      <th>22</th>\n",
       "      <td>0.000</td>\n",
       "      <td>79.000</td>\n",
       "      <td>0</td>\n",
       "      <td>0</td>\n",
       "      <td>1.000</td>\n",
       "      <td>3.000</td>\n",
       "      <td>1.000</td>\n",
       "      <td>228.700</td>\n",
       "      <td>26.600</td>\n",
       "      <td>2.000</td>\n",
       "      <td>1</td>\n",
       "    </tr>\n",
       "    <tr>\n",
       "      <th>23</th>\n",
       "      <td>1.000</td>\n",
       "      <td>82.000</td>\n",
       "      <td>0</td>\n",
       "      <td>1</td>\n",
       "      <td>1.000</td>\n",
       "      <td>2.000</td>\n",
       "      <td>0.000</td>\n",
       "      <td>208.300</td>\n",
       "      <td>32.500</td>\n",
       "      <td>0.000</td>\n",
       "      <td>1</td>\n",
       "    </tr>\n",
       "    <tr>\n",
       "      <th>24</th>\n",
       "      <td>1.000</td>\n",
       "      <td>71.000</td>\n",
       "      <td>0</td>\n",
       "      <td>0</td>\n",
       "      <td>1.000</td>\n",
       "      <td>2.000</td>\n",
       "      <td>1.000</td>\n",
       "      <td>102.870</td>\n",
       "      <td>27.200</td>\n",
       "      <td>1.000</td>\n",
       "      <td>1</td>\n",
       "    </tr>\n",
       "  </tbody>\n",
       "</table>\n",
       "</div>"
      ],
      "text/plain": [
       "    gender    age  hypertension  heart_disease  ever_married  work_type  \\\n",
       "0    1.000 67.000             0              1         1.000      2.000   \n",
       "1    0.000 61.000             0              0         1.000      3.000   \n",
       "2    1.000 80.000             0              1         1.000      2.000   \n",
       "3    0.000 49.000             0              0         1.000      2.000   \n",
       "4    0.000 79.000             1              0         1.000      3.000   \n",
       "5    1.000 81.000             0              0         1.000      2.000   \n",
       "6    1.000 74.000             1              1         1.000      2.000   \n",
       "7    0.000 69.000             0              0         0.000      2.000   \n",
       "8    0.000 59.000             0              0         1.000      2.000   \n",
       "9    0.000 78.000             0              0         1.000      2.000   \n",
       "10   0.000 81.000             1              0         1.000      2.000   \n",
       "11   0.000 61.000             0              1         1.000      0.000   \n",
       "12   0.000 54.000             0              0         1.000      2.000   \n",
       "13   1.000 78.000             0              1         1.000      2.000   \n",
       "14   0.000 79.000             0              1         1.000      2.000   \n",
       "15   0.000 50.000             1              0         1.000      3.000   \n",
       "16   1.000 64.000             0              1         1.000      2.000   \n",
       "17   1.000 75.000             1              0         1.000      2.000   \n",
       "18   0.000 60.000             0              0         0.000      2.000   \n",
       "19   1.000 57.000             0              1         0.000      0.000   \n",
       "20   0.000 71.000             0              0         1.000      0.000   \n",
       "21   0.000 52.000             1              0         1.000      3.000   \n",
       "22   0.000 79.000             0              0         1.000      3.000   \n",
       "23   1.000 82.000             0              1         1.000      2.000   \n",
       "24   1.000 71.000             0              0         1.000      2.000   \n",
       "\n",
       "    Residence_type  avg_glucose_level    bmi  smoking_status  stroke  \n",
       "0            1.000            228.690 36.600           1.000       1  \n",
       "1            0.000            202.210 28.100           2.000       1  \n",
       "2            0.000            105.920 32.500           2.000       1  \n",
       "3            1.000            171.230 34.400           3.000       1  \n",
       "4            0.000            174.120 24.000           2.000       1  \n",
       "5            1.000            186.210 29.000           1.000       1  \n",
       "6            0.000             70.090 27.400           2.000       1  \n",
       "7            1.000             94.390 22.800           2.000       1  \n",
       "8            0.000             76.150 28.100           0.000       1  \n",
       "9            1.000             58.570 24.200           0.000       1  \n",
       "10           0.000             80.430 29.700           2.000       1  \n",
       "11           0.000            120.460 36.800           3.000       1  \n",
       "12           1.000            104.510 27.300           3.000       1  \n",
       "13           1.000            219.840 28.100           0.000       1  \n",
       "14           1.000            214.090 28.200           2.000       1  \n",
       "15           0.000            167.410 30.900           2.000       1  \n",
       "16           1.000            191.610 37.500           3.000       1  \n",
       "17           1.000            221.290 25.800           3.000       1  \n",
       "18           1.000             89.220 37.800           2.000       1  \n",
       "19           1.000            217.080 28.100           0.000       1  \n",
       "20           0.000            193.940 22.400           3.000       1  \n",
       "21           1.000            233.290 48.900           2.000       1  \n",
       "22           1.000            228.700 26.600           2.000       1  \n",
       "23           0.000            208.300 32.500           0.000       1  \n",
       "24           1.000            102.870 27.200           1.000       1  "
      ]
     },
     "execution_count": 27,
     "metadata": {},
     "output_type": "execute_result"
    }
   ],
   "source": [
    "df.head(25)"
   ]
  },
  {
   "cell_type": "markdown",
   "id": "c52e4a23",
   "metadata": {},
   "source": [
    "## ⮚\tANALYSING EACH ATTRIBUTE"
   ]
  },
  {
   "cell_type": "markdown",
   "id": "8dbd5ff0",
   "metadata": {},
   "source": [
    "## Gender"
   ]
  },
  {
   "cell_type": "code",
   "execution_count": 28,
   "id": "2678682a",
   "metadata": {},
   "outputs": [
    {
     "data": {
      "image/png": "[encoded data removed]",
      "text/plain": [
       "<Figure size 720x432 with 1 Axes>"
      ]
     },
     "metadata": {
      "needs_background": "light"
     },
     "output_type": "display_data"
    }
   ],
   "source": [
    "sns.countplot(x=\"gender\",data=df)\n",
    "plt.gca().set_xticklabels(['Female', 'Male'])\n",
    "plt.show()"
   ]
  },
  {
   "cell_type": "markdown",
   "id": "6195e3ee",
   "metadata": {},
   "source": [
    "### From the above graph:-\n",
    " - \tMajority of candidates are female in the above dataset."
   ]
  },
  {
   "cell_type": "markdown",
   "id": "fd81dfa4",
   "metadata": {},
   "source": [
    "## Age"
   ]
  },
  {
   "cell_type": "code",
   "execution_count": 29,
   "id": "c82db7ce",
   "metadata": {},
   "outputs": [
    {
     "data": {
      "image/png": "[encoded data removed]",
      "text/plain": [
       "<Figure size 720x432 with 1 Axes>"
      ]
     },
     "metadata": {
      "needs_background": "light"
     },
     "output_type": "display_data"
    }
   ],
   "source": [
    "df.age.hist()\n",
    "plt.show()"
   ]
  },
  {
   "cell_type": "markdown",
   "id": "033ec959",
   "metadata": {},
   "source": [
    " - The visualization above displays how the ages are distributed among the entries in our dataset.\n",
    " - The ages range from 0 to 82 years old.\n",
    " - It has the majority of entries between the ages of 32 and 66 years."
   ]
  },
  {
   "cell_type": "markdown",
   "id": "b33e4078",
   "metadata": {},
   "source": [
    "## Hypertension"
   ]
  },
  {
   "cell_type": "code",
   "execution_count": 30,
   "id": "fe6fb4ed",
   "metadata": {
    "scrolled": false
   },
   "outputs": [
    {
     "data": {
      "image/png": "[encoded data removed]",
      "text/plain": [
       "<Figure size 720x432 with 1 Axes>"
      ]
     },
     "metadata": {
      "needs_background": "light"
     },
     "output_type": "display_data"
    }
   ],
   "source": [
    "sns.countplot(x=\"hypertension\",data=df)\n",
    "plt.show()"
   ]
  },
  {
   "cell_type": "markdown",
   "id": "8296507c",
   "metadata": {},
   "source": [
    "### From the above graph:-\n",
    " - \tMajority of candidates are not suffering from hypertension\n",
    " -  A large proportion (90.3%) of the population is not afflicted by hypertension, while a small proportion (9.7%) is experiencing hypertension."
   ]
  },
  {
   "cell_type": "markdown",
   "id": "6343ee0f",
   "metadata": {},
   "source": [
    "## Heart Disease"
   ]
  },
  {
   "cell_type": "code",
   "execution_count": 31,
   "id": "fe11e8d2",
   "metadata": {},
   "outputs": [
    {
     "data": {
      "text/plain": [
       "Text(0, 0.5, '')"
      ]
     },
     "execution_count": 31,
     "metadata": {},
     "output_type": "execute_result"
    },
    {
     "data": {
      "image/png": "[encoded data removed]",
      "text/plain": [
       "<Figure size 720x432 with 1 Axes>"
      ]
     },
     "metadata": {},
     "output_type": "display_data"
    }
   ],
   "source": [
    "df['heart_disease'].value_counts().plot(kind='pie', labels=['Not suffering', 'Suffering'], autopct='%1.1f%%')\n",
    "plt.title('Distribution of Heart disease in the Population')\n",
    "plt.ylabel('')"
   ]
  },
  {
   "cell_type": "markdown",
   "id": "e28951fa",
   "metadata": {},
   "source": [
    "### From the above graph:-\n",
    " - \tThe majority of candidates are free from Heart Disease.\n",
    " -  Out of the total population, a mere 5.4% are suffering from heart disease, leaving a significant 94.6% without any affliction."
   ]
  },
  {
   "cell_type": "markdown",
   "id": "6155257b",
   "metadata": {},
   "source": [
    "## Ever Married"
   ]
  },
  {
   "cell_type": "code",
   "execution_count": 32,
   "id": "03040cef",
   "metadata": {},
   "outputs": [
    {
     "data": {
      "text/plain": [
       "Text(0, 0.5, '')"
      ]
     },
     "execution_count": 32,
     "metadata": {},
     "output_type": "execute_result"
    },
    {
     "data": {
      "image/png": "[encoded data removed]",
      "text/plain": [
       "<Figure size 720x432 with 1 Axes>"
      ]
     },
     "metadata": {},
     "output_type": "display_data"
    }
   ],
   "source": [
    "df['ever_married'].value_counts().plot(kind='pie', labels=['Yes', 'No'], autopct='%1.1f%%')\n",
    "plt.title('Distribution of Ever Married in the Population')\n",
    "plt.ylabel('')"
   ]
  },
  {
   "cell_type": "markdown",
   "id": "d7372183",
   "metadata": {},
   "source": [
    "### From the above graph:-\n",
    " - \tThe pie chart indicates that a majority of the population (65.6%) have been married.\n",
    " -  while a minority (34.4%) have never been married."
   ]
  },
  {
   "cell_type": "markdown",
   "id": "5f6a8047",
   "metadata": {},
   "source": [
    "## Work Type"
   ]
  },
  {
   "cell_type": "code",
   "execution_count": 33,
   "id": "30780d52",
   "metadata": {},
   "outputs": [
    {
     "data": {
      "image/png": "[encoded data removed]",
      "text/plain": [
       "<Figure size 720x432 with 1 Axes>"
      ]
     },
     "metadata": {
      "needs_background": "light"
     },
     "output_type": "display_data"
    }
   ],
   "source": [
    "sns.countplot(x=\"work_type\",data=df)\n",
    "plt.gca().set_xticklabels(['Govt Job', 'Never worked', 'Private Job', 'Self-employed', 'Children'])\n",
    "plt.show()"
   ]
  },
  {
   "cell_type": "markdown",
   "id": "7f8b2d59",
   "metadata": {},
   "source": [
    "### From the above graph:-\n",
    " - The largest group of individuals in the dataset work in the private sector, with a count of 2925.\n",
    " - Self-employed individuals are the next most common group, with a count of 819.\n",
    " - The smallest groups in the dataset are those who have never worked (22), government job employees (657), and children (687)."
   ]
  },
  {
   "cell_type": "markdown",
   "id": "6e6b8ada",
   "metadata": {},
   "source": [
    "## Residence Type"
   ]
  },
  {
   "cell_type": "code",
   "execution_count": 34,
   "id": "76582252",
   "metadata": {},
   "outputs": [
    {
     "data": {
      "image/png": "[encoded data removed]",
      "text/plain": [
       "<Figure size 720x432 with 1 Axes>"
      ]
     },
     "metadata": {
      "needs_background": "light"
     },
     "output_type": "display_data"
    }
   ],
   "source": [
    "sns.countplot(x=\"Residence_type\",data=df)\n",
    "plt.gca().set_xticklabels(['Rural', 'Urban'])\n",
    "plt.show()"
   ]
  },
  {
   "cell_type": "markdown",
   "id": "1d756e29",
   "metadata": {},
   "source": [
    "### From the above graph:-\n",
    " - The data shows that the number of individuals living in urban areas is almost equal to those living in rural areas, with urban residents accounting for 50.8% of the population and rural residents accounting for 49.2%.\n",
    " - The \"Urban\" and \"Rural\" categories are almost evenly distributed, with no significant difference in the number of individuals living in each type of area."
   ]
  },
  {
   "cell_type": "markdown",
   "id": "2ee34517",
   "metadata": {},
   "source": [
    "## Average glucose level"
   ]
  },
  {
   "cell_type": "code",
   "execution_count": 35,
   "id": "6000849a",
   "metadata": {
    "scrolled": true
   },
   "outputs": [
    {
     "data": {
      "image/png": "[encoded data removed]",
      "text/plain": [
       "<Figure size 1152x360 with 2 Axes>"
      ]
     },
     "metadata": {
      "needs_background": "light"
     },
     "output_type": "display_data"
    }
   ],
   "source": [
    "plt.figure(figsize=(16, 5))\n",
    "plt.subplot(1, 3,1)\n",
    "sns.histplot(data=df,x='avg_glucose_level',kde=True)\n",
    "\n",
    "plt.subplot(1, 3, 3)\n",
    "sns.kdeplot(data=df, x='avg_glucose_level');"
   ]
  },
  {
   "cell_type": "markdown",
   "id": "57956789",
   "metadata": {},
   "source": [
    "### From the above graph:-\n",
    "- The distribution of the average glucose level data is positively skewed, with a skewness of 1.5722839, and a kurtosis of 1.6804785, indicating that the data is relatively more spread out than a normal distribution."
   ]
  },
  {
   "cell_type": "markdown",
   "id": "67eed8fa",
   "metadata": {},
   "source": [
    "## Body mass index"
   ]
  },
  {
   "cell_type": "code",
   "execution_count": 36,
   "id": "4f0fb13c",
   "metadata": {},
   "outputs": [
    {
     "data": {
      "image/png": "[encoded data removed]",
      "text/plain": [
       "<Figure size 1152x360 with 2 Axes>"
      ]
     },
     "metadata": {
      "needs_background": "light"
     },
     "output_type": "display_data"
    }
   ],
   "source": [
    "plt.figure(figsize=(16, 5))\n",
    "plt.subplot(1, 3,1)\n",
    "sns.histplot(data=df,x='bmi',kde=True)\n",
    "\n",
    "plt.subplot(1, 3, 3)\n",
    "sns.kdeplot(data=df, x='bmi');"
   ]
  },
  {
   "cell_type": "markdown",
   "id": "20e71356",
   "metadata": {},
   "source": [
    "### From the above graph:-\n",
    " - The majority of people in the dataset are overweight or obese.\n",
    " - The distribution of BMI values is slightly skewed to the right.\n",
    " - There are some people with lower BMI values in the dataset, but the majority of people have higher BMI values."
   ]
  },
  {
   "cell_type": "markdown",
   "id": "77fba4f2",
   "metadata": {},
   "source": [
    "## Smoking Status"
   ]
  },
  {
   "cell_type": "code",
   "execution_count": 37,
   "id": "bb5a1412",
   "metadata": {},
   "outputs": [
    {
     "data": {
      "image/png": "[encoded data removed]",
      "text/plain": [
       "<Figure size 720x432 with 1 Axes>"
      ]
     },
     "metadata": {
      "needs_background": "light"
     },
     "output_type": "display_data"
    }
   ],
   "source": [
    "sns.countplot(x=\"smoking_status\",data=df)\n",
    "plt.gca().set_xticklabels(['Unknown', 'Formerly Smoke', 'Never Smoke', 'Smokes'])\n",
    "plt.show()"
   ]
  },
  {
   "cell_type": "markdown",
   "id": "4ae19d1b",
   "metadata": {},
   "source": [
    "### From the above graph:-\n",
    " - The majority of people in the dataset have never smoked.\n",
    " - A significant number of people in the dataset have smoked in the past, but have since quit.\n",
    " - A small number of people in the dataset currently smoke."
   ]
  },
  {
   "cell_type": "markdown",
   "id": "874bb78a",
   "metadata": {},
   "source": [
    "### 2.Bivariate Analysis"
   ]
  },
  {
   "cell_type": "code",
   "execution_count": 38,
   "id": "544c882e",
   "metadata": {},
   "outputs": [
    {
     "data": {
      "image/png": "[encoded data removed]",
      "text/plain": [
       "<Figure size 864x432 with 2 Axes>"
      ]
     },
     "metadata": {
      "needs_background": "light"
     },
     "output_type": "display_data"
    }
   ],
   "source": [
    "plt.figure(figsize=(12,6))\n",
    "sns.heatmap(data = df.corr(),annot=True,\n",
    "            cmap=\"crest\",fmt=\".2g\");"
   ]
  },
  {
   "cell_type": "markdown",
   "id": "af05e944",
   "metadata": {},
   "source": [
    "Wow, We got some good information here:\n",
    "\n",
    " - Age and Worktype have strong negatinve correlation.\n",
    " - Worktype and bmi have fairly good negative correlation.\n",
    " \n",
    "Let's draw them seperately and see what we get,"
   ]
  },
  {
   "cell_type": "code",
   "execution_count": 39,
   "id": "cc61262e",
   "metadata": {
    "scrolled": true
   },
   "outputs": [],
   "source": [
    "#num_cols = ['age','avg_glucose_level','bmi']\n",
    "#sns.scatterplot(data=df, x='age',y='bmi');"
   ]
  },
  {
   "cell_type": "code",
   "execution_count": 40,
   "id": "24b556ff",
   "metadata": {},
   "outputs": [],
   "source": [
    "#sns.scatterplot(data=df, x='age',y='avg_glucose_level');"
   ]
  },
  {
   "cell_type": "code",
   "execution_count": 41,
   "id": "96c852af",
   "metadata": {},
   "outputs": [],
   "source": [
    "#sns.scatterplot(data=df, x='avg_glucose_level',y='bmi');"
   ]
  },
  {
   "cell_type": "code",
   "execution_count": 42,
   "id": "528e464c",
   "metadata": {
    "scrolled": true
   },
   "outputs": [
    {
     "data": {
      "image/png": "[encoded data removed]",
      "text/plain": [
       "<Figure size 1152x360 with 3 Axes>"
      ]
     },
     "metadata": {
      "needs_background": "light"
     },
     "output_type": "display_data"
    }
   ],
   "source": [
    "num_cols = ['age','avg_glucose_level','bmi']\n",
    "plt.figure(figsize=(16, 5))\n",
    "plt.subplot(1, 3,1)\n",
    "sns.scatterplot(data=df, x='age',y='bmi')\n",
    "plt.subplot(1, 3,2)\n",
    "sns.scatterplot(data=df, x='age',y='avg_glucose_level')\n",
    "plt.subplot(1, 3,3)\n",
    "sns.scatterplot(data=df, x='avg_glucose_level',y='bmi');"
   ]
  },
  {
   "cell_type": "markdown",
   "id": "7f053ae7",
   "metadata": {},
   "source": [
    "### Conclusions:"
   ]
  },
  {
   "cell_type": "markdown",
   "id": "cbcc55f8",
   "metadata": {},
   "source": [
    " - Accodring to data, high avg_glucose_level is recorded in patient of age above 50.\n",
    " - BMI is high in patients of age between 20-60.\n",
    " - If glucose level is low then it is more chance that your bmi level is high according to this data."
   ]
  },
  {
   "cell_type": "markdown",
   "id": "094b48f6",
   "metadata": {},
   "source": [
    "## Age Vs. Heart_disease, Work_type, Hypertension"
   ]
  },
  {
   "cell_type": "code",
   "execution_count": 43,
   "id": "07c4c026",
   "metadata": {},
   "outputs": [],
   "source": [
    "#sns.stripplot(data=df,x='heart_disease',y='age');"
   ]
  },
  {
   "cell_type": "code",
   "execution_count": 44,
   "id": "ae3055c2",
   "metadata": {},
   "outputs": [],
   "source": [
    "#sns.stripplot(data=df,x='hypertension',y='age');"
   ]
  },
  {
   "cell_type": "code",
   "execution_count": 45,
   "id": "c305d54d",
   "metadata": {},
   "outputs": [
    {
     "data": {
      "image/png": "[encoded data removed]",
      "text/plain": [
       "<Figure size 1296x360 with 3 Axes>"
      ]
     },
     "metadata": {
      "needs_background": "light"
     },
     "output_type": "display_data"
    }
   ],
   "source": [
    "plt.figure(figsize=(18, 5))\n",
    "plt.subplot(1, 3,1)\n",
    "sns.stripplot(data=df,x='heart_disease',y='age')\n",
    "plt.subplot(1, 3,2)\n",
    "sns.stripplot(data=df,x='work_type',y='age')\n",
    "plt.subplot(1, 3,3)\n",
    "sns.stripplot(data=df,x='hypertension',y='age');"
   ]
  },
  {
   "cell_type": "markdown",
   "id": "3487415a",
   "metadata": {},
   "source": [
    "### Conclusions:    "
   ]
  },
  {
   "cell_type": "markdown",
   "id": "301bdfa7",
   "metadata": {},
   "source": [
    " - Almost all heart disease people are above 50, which is obvious.\n",
    " - Hypertension disease in people of above 50."
   ]
  },
  {
   "cell_type": "code",
   "execution_count": 46,
   "id": "e1ab279c",
   "metadata": {},
   "outputs": [
    {
     "data": {
      "text/html": [
       "<div>\n",
       "<style scoped>\n",
       "    .dataframe tbody tr th:only-of-type {\n",
       "        vertical-align: middle;\n",
       "    }\n",
       "\n",
       "    .dataframe tbody tr th {\n",
       "        vertical-align: top;\n",
       "    }\n",
       "\n",
       "    .dataframe thead th {\n",
       "        text-align: right;\n",
       "    }\n",
       "</style>\n",
       "<table border=\"1\" class=\"dataframe\">\n",
       "  <thead>\n",
       "    <tr style=\"text-align: right;\">\n",
       "      <th></th>\n",
       "      <th>gender</th>\n",
       "      <th>age</th>\n",
       "      <th>hypertension</th>\n",
       "      <th>heart_disease</th>\n",
       "      <th>ever_married</th>\n",
       "      <th>work_type</th>\n",
       "      <th>Residence_type</th>\n",
       "      <th>avg_glucose_level</th>\n",
       "      <th>bmi</th>\n",
       "      <th>smoking_status</th>\n",
       "      <th>stroke</th>\n",
       "    </tr>\n",
       "  </thead>\n",
       "  <tbody>\n",
       "    <tr>\n",
       "      <th>0</th>\n",
       "      <td>1.000</td>\n",
       "      <td>67.000</td>\n",
       "      <td>0</td>\n",
       "      <td>1</td>\n",
       "      <td>1.000</td>\n",
       "      <td>2.000</td>\n",
       "      <td>1.000</td>\n",
       "      <td>228.690</td>\n",
       "      <td>36.600</td>\n",
       "      <td>1.000</td>\n",
       "      <td>1</td>\n",
       "    </tr>\n",
       "    <tr>\n",
       "      <th>1</th>\n",
       "      <td>0.000</td>\n",
       "      <td>61.000</td>\n",
       "      <td>0</td>\n",
       "      <td>0</td>\n",
       "      <td>1.000</td>\n",
       "      <td>3.000</td>\n",
       "      <td>0.000</td>\n",
       "      <td>202.210</td>\n",
       "      <td>28.100</td>\n",
       "      <td>2.000</td>\n",
       "      <td>1</td>\n",
       "    </tr>\n",
       "    <tr>\n",
       "      <th>2</th>\n",
       "      <td>1.000</td>\n",
       "      <td>80.000</td>\n",
       "      <td>0</td>\n",
       "      <td>1</td>\n",
       "      <td>1.000</td>\n",
       "      <td>2.000</td>\n",
       "      <td>0.000</td>\n",
       "      <td>105.920</td>\n",
       "      <td>32.500</td>\n",
       "      <td>2.000</td>\n",
       "      <td>1</td>\n",
       "    </tr>\n",
       "    <tr>\n",
       "      <th>3</th>\n",
       "      <td>0.000</td>\n",
       "      <td>49.000</td>\n",
       "      <td>0</td>\n",
       "      <td>0</td>\n",
       "      <td>1.000</td>\n",
       "      <td>2.000</td>\n",
       "      <td>1.000</td>\n",
       "      <td>171.230</td>\n",
       "      <td>34.400</td>\n",
       "      <td>3.000</td>\n",
       "      <td>1</td>\n",
       "    </tr>\n",
       "    <tr>\n",
       "      <th>4</th>\n",
       "      <td>0.000</td>\n",
       "      <td>79.000</td>\n",
       "      <td>1</td>\n",
       "      <td>0</td>\n",
       "      <td>1.000</td>\n",
       "      <td>3.000</td>\n",
       "      <td>0.000</td>\n",
       "      <td>174.120</td>\n",
       "      <td>24.000</td>\n",
       "      <td>2.000</td>\n",
       "      <td>1</td>\n",
       "    </tr>\n",
       "  </tbody>\n",
       "</table>\n",
       "</div>"
      ],
      "text/plain": [
       "   gender    age  hypertension  heart_disease  ever_married  work_type  \\\n",
       "0   1.000 67.000             0              1         1.000      2.000   \n",
       "1   0.000 61.000             0              0         1.000      3.000   \n",
       "2   1.000 80.000             0              1         1.000      2.000   \n",
       "3   0.000 49.000             0              0         1.000      2.000   \n",
       "4   0.000 79.000             1              0         1.000      3.000   \n",
       "\n",
       "   Residence_type  avg_glucose_level    bmi  smoking_status  stroke  \n",
       "0           1.000            228.690 36.600           1.000       1  \n",
       "1           0.000            202.210 28.100           2.000       1  \n",
       "2           0.000            105.920 32.500           2.000       1  \n",
       "3           1.000            171.230 34.400           3.000       1  \n",
       "4           0.000            174.120 24.000           2.000       1  "
      ]
     },
     "execution_count": 46,
     "metadata": {},
     "output_type": "execute_result"
    }
   ],
   "source": [
    "df.head()"
   ]
  },
  {
   "cell_type": "code",
   "execution_count": 47,
   "id": "38d46a01",
   "metadata": {},
   "outputs": [
    {
     "name": "stdout",
     "output_type": "stream",
     "text": [
      "<class 'pandas.core.frame.DataFrame'>\n",
      "RangeIndex: 5110 entries, 0 to 5109\n",
      "Data columns (total 11 columns):\n",
      " #   Column             Non-Null Count  Dtype  \n",
      "---  ------             --------------  -----  \n",
      " 0   gender             5110 non-null   float64\n",
      " 1   age                5110 non-null   float64\n",
      " 2   hypertension       5110 non-null   int64  \n",
      " 3   heart_disease      5110 non-null   int64  \n",
      " 4   ever_married       5110 non-null   float64\n",
      " 5   work_type          5110 non-null   float64\n",
      " 6   Residence_type     5110 non-null   float64\n",
      " 7   avg_glucose_level  5110 non-null   float64\n",
      " 8   bmi                5110 non-null   float64\n",
      " 9   smoking_status     5110 non-null   float64\n",
      " 10  stroke             5110 non-null   int64  \n",
      "dtypes: float64(8), int64(3)\n",
      "memory usage: 439.3 KB\n"
     ]
    }
   ],
   "source": [
    "df.info()"
   ]
  },
  {
   "cell_type": "code",
   "execution_count": 48,
   "id": "610f93be",
   "metadata": {},
   "outputs": [
    {
     "data": {
      "text/html": [
       "<div>\n",
       "<style scoped>\n",
       "    .dataframe tbody tr th:only-of-type {\n",
       "        vertical-align: middle;\n",
       "    }\n",
       "\n",
       "    .dataframe tbody tr th {\n",
       "        vertical-align: top;\n",
       "    }\n",
       "\n",
       "    .dataframe thead th {\n",
       "        text-align: right;\n",
       "    }\n",
       "</style>\n",
       "<table border=\"1\" class=\"dataframe\">\n",
       "  <thead>\n",
       "    <tr style=\"text-align: right;\">\n",
       "      <th></th>\n",
       "      <th>gender</th>\n",
       "      <th>age</th>\n",
       "      <th>hypertension</th>\n",
       "      <th>heart_disease</th>\n",
       "      <th>ever_married</th>\n",
       "      <th>work_type</th>\n",
       "      <th>Residence_type</th>\n",
       "      <th>avg_glucose_level</th>\n",
       "      <th>bmi</th>\n",
       "      <th>smoking_status</th>\n",
       "      <th>stroke</th>\n",
       "    </tr>\n",
       "  </thead>\n",
       "  <tbody>\n",
       "    <tr>\n",
       "      <th>count</th>\n",
       "      <td>5110.000</td>\n",
       "      <td>5110.000</td>\n",
       "      <td>5110.000</td>\n",
       "      <td>5110.000</td>\n",
       "      <td>5110.000</td>\n",
       "      <td>5110.000</td>\n",
       "      <td>5110.000</td>\n",
       "      <td>5110.000</td>\n",
       "      <td>5110.000</td>\n",
       "      <td>5110.000</td>\n",
       "      <td>5110.000</td>\n",
       "    </tr>\n",
       "    <tr>\n",
       "      <th>mean</th>\n",
       "      <td>0.414</td>\n",
       "      <td>43.227</td>\n",
       "      <td>0.097</td>\n",
       "      <td>0.054</td>\n",
       "      <td>0.656</td>\n",
       "      <td>2.168</td>\n",
       "      <td>0.508</td>\n",
       "      <td>106.148</td>\n",
       "      <td>28.862</td>\n",
       "      <td>1.377</td>\n",
       "      <td>0.049</td>\n",
       "    </tr>\n",
       "    <tr>\n",
       "      <th>std</th>\n",
       "      <td>0.493</td>\n",
       "      <td>22.613</td>\n",
       "      <td>0.297</td>\n",
       "      <td>0.226</td>\n",
       "      <td>0.475</td>\n",
       "      <td>1.090</td>\n",
       "      <td>0.500</td>\n",
       "      <td>45.284</td>\n",
       "      <td>7.700</td>\n",
       "      <td>1.072</td>\n",
       "      <td>0.215</td>\n",
       "    </tr>\n",
       "    <tr>\n",
       "      <th>min</th>\n",
       "      <td>0.000</td>\n",
       "      <td>0.080</td>\n",
       "      <td>0.000</td>\n",
       "      <td>0.000</td>\n",
       "      <td>0.000</td>\n",
       "      <td>0.000</td>\n",
       "      <td>0.000</td>\n",
       "      <td>55.120</td>\n",
       "      <td>10.300</td>\n",
       "      <td>0.000</td>\n",
       "      <td>0.000</td>\n",
       "    </tr>\n",
       "    <tr>\n",
       "      <th>25%</th>\n",
       "      <td>0.000</td>\n",
       "      <td>25.000</td>\n",
       "      <td>0.000</td>\n",
       "      <td>0.000</td>\n",
       "      <td>0.000</td>\n",
       "      <td>2.000</td>\n",
       "      <td>0.000</td>\n",
       "      <td>77.245</td>\n",
       "      <td>23.800</td>\n",
       "      <td>0.000</td>\n",
       "      <td>0.000</td>\n",
       "    </tr>\n",
       "    <tr>\n",
       "      <th>50%</th>\n",
       "      <td>0.000</td>\n",
       "      <td>45.000</td>\n",
       "      <td>0.000</td>\n",
       "      <td>0.000</td>\n",
       "      <td>1.000</td>\n",
       "      <td>2.000</td>\n",
       "      <td>1.000</td>\n",
       "      <td>91.885</td>\n",
       "      <td>28.100</td>\n",
       "      <td>2.000</td>\n",
       "      <td>0.000</td>\n",
       "    </tr>\n",
       "    <tr>\n",
       "      <th>75%</th>\n",
       "      <td>1.000</td>\n",
       "      <td>61.000</td>\n",
       "      <td>0.000</td>\n",
       "      <td>0.000</td>\n",
       "      <td>1.000</td>\n",
       "      <td>3.000</td>\n",
       "      <td>1.000</td>\n",
       "      <td>114.090</td>\n",
       "      <td>32.800</td>\n",
       "      <td>2.000</td>\n",
       "      <td>0.000</td>\n",
       "    </tr>\n",
       "    <tr>\n",
       "      <th>max</th>\n",
       "      <td>1.000</td>\n",
       "      <td>82.000</td>\n",
       "      <td>1.000</td>\n",
       "      <td>1.000</td>\n",
       "      <td>1.000</td>\n",
       "      <td>4.000</td>\n",
       "      <td>1.000</td>\n",
       "      <td>271.740</td>\n",
       "      <td>97.600</td>\n",
       "      <td>3.000</td>\n",
       "      <td>1.000</td>\n",
       "    </tr>\n",
       "  </tbody>\n",
       "</table>\n",
       "</div>"
      ],
      "text/plain": [
       "        gender      age  hypertension  heart_disease  ever_married  work_type  \\\n",
       "count 5110.000 5110.000      5110.000       5110.000      5110.000   5110.000   \n",
       "mean     0.414   43.227         0.097          0.054         0.656      2.168   \n",
       "std      0.493   22.613         0.297          0.226         0.475      1.090   \n",
       "min      0.000    0.080         0.000          0.000         0.000      0.000   \n",
       "25%      0.000   25.000         0.000          0.000         0.000      2.000   \n",
       "50%      0.000   45.000         0.000          0.000         1.000      2.000   \n",
       "75%      1.000   61.000         0.000          0.000         1.000      3.000   \n",
       "max      1.000   82.000         1.000          1.000         1.000      4.000   \n",
       "\n",
       "       Residence_type  avg_glucose_level      bmi  smoking_status   stroke  \n",
       "count        5110.000           5110.000 5110.000        5110.000 5110.000  \n",
       "mean            0.508            106.148   28.862           1.377    0.049  \n",
       "std             0.500             45.284    7.700           1.072    0.215  \n",
       "min             0.000             55.120   10.300           0.000    0.000  \n",
       "25%             0.000             77.245   23.800           0.000    0.000  \n",
       "50%             1.000             91.885   28.100           2.000    0.000  \n",
       "75%             1.000            114.090   32.800           2.000    0.000  \n",
       "max             1.000            271.740   97.600           3.000    1.000  "
      ]
     },
     "execution_count": 48,
     "metadata": {},
     "output_type": "execute_result"
    }
   ],
   "source": [
    "df.describe()"
   ]
  },
  {
   "cell_type": "code",
   "execution_count": 49,
   "id": "8dcba5e1",
   "metadata": {},
   "outputs": [
    {
     "data": {
      "text/plain": [
       "gender               0\n",
       "age                  0\n",
       "hypertension         0\n",
       "heart_disease        0\n",
       "ever_married         0\n",
       "work_type            0\n",
       "Residence_type       0\n",
       "avg_glucose_level    0\n",
       "bmi                  0\n",
       "smoking_status       0\n",
       "stroke               0\n",
       "dtype: int64"
      ]
     },
     "execution_count": 49,
     "metadata": {},
     "output_type": "execute_result"
    }
   ],
   "source": [
    "df.isnull().sum()"
   ]
  },
  {
   "cell_type": "code",
   "execution_count": 50,
   "id": "9a3cf127",
   "metadata": {},
   "outputs": [],
   "source": [
    "#df.to_csv('my_data.csv', index=False)"
   ]
  },
  {
   "cell_type": "markdown",
   "id": "db71a979",
   "metadata": {},
   "source": [
    "### Now Divid X and Y Column"
   ]
  },
  {
   "cell_type": "code",
   "execution_count": 51,
   "id": "653631de",
   "metadata": {},
   "outputs": [],
   "source": [
    "X=df.drop(['stroke'],axis=1)\n",
    "y=df['stroke']"
   ]
  },
  {
   "cell_type": "markdown",
   "id": "3262d540",
   "metadata": {},
   "source": [
    "### Splitting the dataset"
   ]
  },
  {
   "cell_type": "code",
   "execution_count": 52,
   "id": "d93f32f7",
   "metadata": {},
   "outputs": [
    {
     "name": "stdout",
     "output_type": "stream",
     "text": [
      "Shape of x_train : (3832, 10)\n",
      "Shape of x_test : (1278, 10)\n",
      "Shape of y_train : (3832,)\n",
      "Shape of y_test : (1278,)\n"
     ]
    }
   ],
   "source": [
    "# splitting the data into train and valid dataset\n",
    "\n",
    "from sklearn.model_selection import train_test_split\n",
    "\n",
    "x_train, x_test, y_train, y_test = train_test_split(X, y, test_size = 0.25, random_state = 3)\n",
    "\n",
    "# checking the shapes\n",
    "print(\"Shape of x_train :\", x_train.shape)\n",
    "print(\"Shape of x_test :\", x_test.shape)\n",
    "print(\"Shape of y_train :\", y_train.shape)\n",
    "print(\"Shape of y_test :\", y_test.shape)"
   ]
  },
  {
   "cell_type": "markdown",
   "id": "524d944b",
   "metadata": {},
   "source": [
    "### Scale the data"
   ]
  },
  {
   "cell_type": "code",
   "execution_count": 53,
   "id": "4498f60d",
   "metadata": {},
   "outputs": [],
   "source": [
    "from sklearn.preprocessing import MinMaxScaler"
   ]
  },
  {
   "cell_type": "code",
   "execution_count": 54,
   "id": "87befbc8",
   "metadata": {},
   "outputs": [
    {
     "data": {
      "text/html": [
       "<div>\n",
       "<style scoped>\n",
       "    .dataframe tbody tr th:only-of-type {\n",
       "        vertical-align: middle;\n",
       "    }\n",
       "\n",
       "    .dataframe tbody tr th {\n",
       "        vertical-align: top;\n",
       "    }\n",
       "\n",
       "    .dataframe thead th {\n",
       "        text-align: right;\n",
       "    }\n",
       "</style>\n",
       "<table border=\"1\" class=\"dataframe\">\n",
       "  <thead>\n",
       "    <tr style=\"text-align: right;\">\n",
       "      <th></th>\n",
       "      <th>gender</th>\n",
       "      <th>age</th>\n",
       "      <th>hypertension</th>\n",
       "      <th>heart_disease</th>\n",
       "      <th>ever_married</th>\n",
       "      <th>work_type</th>\n",
       "      <th>Residence_type</th>\n",
       "      <th>avg_glucose_level</th>\n",
       "      <th>bmi</th>\n",
       "      <th>smoking_status</th>\n",
       "    </tr>\n",
       "  </thead>\n",
       "  <tbody>\n",
       "    <tr>\n",
       "      <th>0</th>\n",
       "      <td>1.000</td>\n",
       "      <td>0.756</td>\n",
       "      <td>0.000</td>\n",
       "      <td>0.000</td>\n",
       "      <td>1.000</td>\n",
       "      <td>0.500</td>\n",
       "      <td>1.000</td>\n",
       "      <td>0.319</td>\n",
       "      <td>0.265</td>\n",
       "      <td>0.667</td>\n",
       "    </tr>\n",
       "    <tr>\n",
       "      <th>1</th>\n",
       "      <td>0.000</td>\n",
       "      <td>0.060</td>\n",
       "      <td>0.000</td>\n",
       "      <td>0.000</td>\n",
       "      <td>0.000</td>\n",
       "      <td>1.000</td>\n",
       "      <td>1.000</td>\n",
       "      <td>0.096</td>\n",
       "      <td>0.111</td>\n",
       "      <td>0.000</td>\n",
       "    </tr>\n",
       "    <tr>\n",
       "      <th>2</th>\n",
       "      <td>0.000</td>\n",
       "      <td>0.353</td>\n",
       "      <td>0.000</td>\n",
       "      <td>0.000</td>\n",
       "      <td>0.000</td>\n",
       "      <td>0.500</td>\n",
       "      <td>1.000</td>\n",
       "      <td>0.078</td>\n",
       "      <td>0.271</td>\n",
       "      <td>0.333</td>\n",
       "    </tr>\n",
       "    <tr>\n",
       "      <th>3</th>\n",
       "      <td>1.000</td>\n",
       "      <td>0.658</td>\n",
       "      <td>0.000</td>\n",
       "      <td>0.000</td>\n",
       "      <td>1.000</td>\n",
       "      <td>0.500</td>\n",
       "      <td>0.000</td>\n",
       "      <td>0.699</td>\n",
       "      <td>0.288</td>\n",
       "      <td>1.000</td>\n",
       "    </tr>\n",
       "    <tr>\n",
       "      <th>4</th>\n",
       "      <td>0.000</td>\n",
       "      <td>0.585</td>\n",
       "      <td>0.000</td>\n",
       "      <td>0.000</td>\n",
       "      <td>1.000</td>\n",
       "      <td>0.500</td>\n",
       "      <td>1.000</td>\n",
       "      <td>0.143</td>\n",
       "      <td>0.297</td>\n",
       "      <td>0.667</td>\n",
       "    </tr>\n",
       "    <tr>\n",
       "      <th>...</th>\n",
       "      <td>...</td>\n",
       "      <td>...</td>\n",
       "      <td>...</td>\n",
       "      <td>...</td>\n",
       "      <td>...</td>\n",
       "      <td>...</td>\n",
       "      <td>...</td>\n",
       "      <td>...</td>\n",
       "      <td>...</td>\n",
       "      <td>...</td>\n",
       "    </tr>\n",
       "    <tr>\n",
       "      <th>3827</th>\n",
       "      <td>0.000</td>\n",
       "      <td>0.658</td>\n",
       "      <td>0.000</td>\n",
       "      <td>0.000</td>\n",
       "      <td>1.000</td>\n",
       "      <td>0.500</td>\n",
       "      <td>0.000</td>\n",
       "      <td>0.260</td>\n",
       "      <td>0.238</td>\n",
       "      <td>0.667</td>\n",
       "    </tr>\n",
       "    <tr>\n",
       "      <th>3828</th>\n",
       "      <td>0.000</td>\n",
       "      <td>0.670</td>\n",
       "      <td>0.000</td>\n",
       "      <td>0.000</td>\n",
       "      <td>1.000</td>\n",
       "      <td>0.500</td>\n",
       "      <td>0.000</td>\n",
       "      <td>0.265</td>\n",
       "      <td>0.258</td>\n",
       "      <td>1.000</td>\n",
       "    </tr>\n",
       "    <tr>\n",
       "      <th>3829</th>\n",
       "      <td>0.000</td>\n",
       "      <td>0.487</td>\n",
       "      <td>0.000</td>\n",
       "      <td>0.000</td>\n",
       "      <td>1.000</td>\n",
       "      <td>0.500</td>\n",
       "      <td>0.000</td>\n",
       "      <td>0.629</td>\n",
       "      <td>0.202</td>\n",
       "      <td>1.000</td>\n",
       "    </tr>\n",
       "    <tr>\n",
       "      <th>3830</th>\n",
       "      <td>1.000</td>\n",
       "      <td>0.022</td>\n",
       "      <td>0.000</td>\n",
       "      <td>0.000</td>\n",
       "      <td>0.000</td>\n",
       "      <td>1.000</td>\n",
       "      <td>1.000</td>\n",
       "      <td>0.121</td>\n",
       "      <td>0.037</td>\n",
       "      <td>0.000</td>\n",
       "    </tr>\n",
       "    <tr>\n",
       "      <th>3831</th>\n",
       "      <td>0.000</td>\n",
       "      <td>0.390</td>\n",
       "      <td>0.000</td>\n",
       "      <td>0.000</td>\n",
       "      <td>1.000</td>\n",
       "      <td>0.500</td>\n",
       "      <td>1.000</td>\n",
       "      <td>0.119</td>\n",
       "      <td>0.395</td>\n",
       "      <td>0.667</td>\n",
       "    </tr>\n",
       "  </tbody>\n",
       "</table>\n",
       "<p>3832 rows × 10 columns</p>\n",
       "</div>"
      ],
      "text/plain": [
       "      gender   age  hypertension  heart_disease  ever_married  work_type  \\\n",
       "0      1.000 0.756         0.000          0.000         1.000      0.500   \n",
       "1      0.000 0.060         0.000          0.000         0.000      1.000   \n",
       "2      0.000 0.353         0.000          0.000         0.000      0.500   \n",
       "3      1.000 0.658         0.000          0.000         1.000      0.500   \n",
       "4      0.000 0.585         0.000          0.000         1.000      0.500   \n",
       "...      ...   ...           ...            ...           ...        ...   \n",
       "3827   0.000 0.658         0.000          0.000         1.000      0.500   \n",
       "3828   0.000 0.670         0.000          0.000         1.000      0.500   \n",
       "3829   0.000 0.487         0.000          0.000         1.000      0.500   \n",
       "3830   1.000 0.022         0.000          0.000         0.000      1.000   \n",
       "3831   0.000 0.390         0.000          0.000         1.000      0.500   \n",
       "\n",
       "      Residence_type  avg_glucose_level   bmi  smoking_status  \n",
       "0              1.000              0.319 0.265           0.667  \n",
       "1              1.000              0.096 0.111           0.000  \n",
       "2              1.000              0.078 0.271           0.333  \n",
       "3              0.000              0.699 0.288           1.000  \n",
       "4              1.000              0.143 0.297           0.667  \n",
       "...              ...                ...   ...             ...  \n",
       "3827           0.000              0.260 0.238           0.667  \n",
       "3828           0.000              0.265 0.258           1.000  \n",
       "3829           0.000              0.629 0.202           1.000  \n",
       "3830           1.000              0.121 0.037           0.000  \n",
       "3831           1.000              0.119 0.395           0.667  \n",
       "\n",
       "[3832 rows x 10 columns]"
      ]
     },
     "execution_count": 54,
     "metadata": {},
     "output_type": "execute_result"
    }
   ],
   "source": [
    "scale=MinMaxScaler()\n",
    "X_train_scaled=pd.DataFrame(scale.fit_transform(x_train),columns=x_train.columns)\n",
    "X_train_scaled"
   ]
  },
  {
   "cell_type": "code",
   "execution_count": 55,
   "id": "b3f0a20f",
   "metadata": {},
   "outputs": [
    {
     "data": {
      "text/html": [
       "<div>\n",
       "<style scoped>\n",
       "    .dataframe tbody tr th:only-of-type {\n",
       "        vertical-align: middle;\n",
       "    }\n",
       "\n",
       "    .dataframe tbody tr th {\n",
       "        vertical-align: top;\n",
       "    }\n",
       "\n",
       "    .dataframe thead th {\n",
       "        text-align: right;\n",
       "    }\n",
       "</style>\n",
       "<table border=\"1\" class=\"dataframe\">\n",
       "  <thead>\n",
       "    <tr style=\"text-align: right;\">\n",
       "      <th></th>\n",
       "      <th>gender</th>\n",
       "      <th>age</th>\n",
       "      <th>hypertension</th>\n",
       "      <th>heart_disease</th>\n",
       "      <th>ever_married</th>\n",
       "      <th>work_type</th>\n",
       "      <th>Residence_type</th>\n",
       "      <th>avg_glucose_level</th>\n",
       "      <th>bmi</th>\n",
       "      <th>smoking_status</th>\n",
       "    </tr>\n",
       "  </thead>\n",
       "  <tbody>\n",
       "    <tr>\n",
       "      <th>0</th>\n",
       "      <td>0.000</td>\n",
       "      <td>0.352</td>\n",
       "      <td>0.000</td>\n",
       "      <td>0.000</td>\n",
       "      <td>1.000</td>\n",
       "      <td>0.500</td>\n",
       "      <td>1.000</td>\n",
       "      <td>0.290</td>\n",
       "      <td>0.150</td>\n",
       "      <td>0.667</td>\n",
       "    </tr>\n",
       "    <tr>\n",
       "      <th>1</th>\n",
       "      <td>1.000</td>\n",
       "      <td>0.706</td>\n",
       "      <td>0.000</td>\n",
       "      <td>0.000</td>\n",
       "      <td>1.000</td>\n",
       "      <td>0.000</td>\n",
       "      <td>1.000</td>\n",
       "      <td>0.220</td>\n",
       "      <td>0.287</td>\n",
       "      <td>0.667</td>\n",
       "    </tr>\n",
       "    <tr>\n",
       "      <th>2</th>\n",
       "      <td>0.000</td>\n",
       "      <td>0.450</td>\n",
       "      <td>0.000</td>\n",
       "      <td>0.000</td>\n",
       "      <td>1.000</td>\n",
       "      <td>0.500</td>\n",
       "      <td>0.000</td>\n",
       "      <td>0.507</td>\n",
       "      <td>0.348</td>\n",
       "      <td>0.667</td>\n",
       "    </tr>\n",
       "    <tr>\n",
       "      <th>3</th>\n",
       "      <td>0.000</td>\n",
       "      <td>0.596</td>\n",
       "      <td>0.000</td>\n",
       "      <td>0.000</td>\n",
       "      <td>1.000</td>\n",
       "      <td>0.000</td>\n",
       "      <td>1.000</td>\n",
       "      <td>0.166</td>\n",
       "      <td>0.147</td>\n",
       "      <td>0.000</td>\n",
       "    </tr>\n",
       "    <tr>\n",
       "      <th>4</th>\n",
       "      <td>0.000</td>\n",
       "      <td>0.694</td>\n",
       "      <td>0.000</td>\n",
       "      <td>0.000</td>\n",
       "      <td>1.000</td>\n",
       "      <td>0.500</td>\n",
       "      <td>1.000</td>\n",
       "      <td>0.109</td>\n",
       "      <td>0.264</td>\n",
       "      <td>0.667</td>\n",
       "    </tr>\n",
       "    <tr>\n",
       "      <th>...</th>\n",
       "      <td>...</td>\n",
       "      <td>...</td>\n",
       "      <td>...</td>\n",
       "      <td>...</td>\n",
       "      <td>...</td>\n",
       "      <td>...</td>\n",
       "      <td>...</td>\n",
       "      <td>...</td>\n",
       "      <td>...</td>\n",
       "      <td>...</td>\n",
       "    </tr>\n",
       "    <tr>\n",
       "      <th>1273</th>\n",
       "      <td>0.000</td>\n",
       "      <td>0.450</td>\n",
       "      <td>0.000</td>\n",
       "      <td>0.000</td>\n",
       "      <td>1.000</td>\n",
       "      <td>0.000</td>\n",
       "      <td>1.000</td>\n",
       "      <td>0.047</td>\n",
       "      <td>0.268</td>\n",
       "      <td>0.667</td>\n",
       "    </tr>\n",
       "    <tr>\n",
       "      <th>1274</th>\n",
       "      <td>0.000</td>\n",
       "      <td>0.682</td>\n",
       "      <td>0.000</td>\n",
       "      <td>0.000</td>\n",
       "      <td>1.000</td>\n",
       "      <td>0.500</td>\n",
       "      <td>0.000</td>\n",
       "      <td>0.808</td>\n",
       "      <td>0.145</td>\n",
       "      <td>1.000</td>\n",
       "    </tr>\n",
       "    <tr>\n",
       "      <th>1275</th>\n",
       "      <td>0.000</td>\n",
       "      <td>0.291</td>\n",
       "      <td>0.000</td>\n",
       "      <td>0.000</td>\n",
       "      <td>1.000</td>\n",
       "      <td>0.750</td>\n",
       "      <td>0.000</td>\n",
       "      <td>0.068</td>\n",
       "      <td>0.227</td>\n",
       "      <td>0.667</td>\n",
       "    </tr>\n",
       "    <tr>\n",
       "      <th>1276</th>\n",
       "      <td>1.000</td>\n",
       "      <td>0.303</td>\n",
       "      <td>0.000</td>\n",
       "      <td>0.000</td>\n",
       "      <td>1.000</td>\n",
       "      <td>0.750</td>\n",
       "      <td>1.000</td>\n",
       "      <td>0.132</td>\n",
       "      <td>0.250</td>\n",
       "      <td>0.000</td>\n",
       "    </tr>\n",
       "    <tr>\n",
       "      <th>1277</th>\n",
       "      <td>0.000</td>\n",
       "      <td>1.000</td>\n",
       "      <td>0.000</td>\n",
       "      <td>0.000</td>\n",
       "      <td>1.000</td>\n",
       "      <td>0.750</td>\n",
       "      <td>0.000</td>\n",
       "      <td>0.137</td>\n",
       "      <td>0.178</td>\n",
       "      <td>0.000</td>\n",
       "    </tr>\n",
       "  </tbody>\n",
       "</table>\n",
       "<p>1278 rows × 10 columns</p>\n",
       "</div>"
      ],
      "text/plain": [
       "      gender   age  hypertension  heart_disease  ever_married  work_type  \\\n",
       "0      0.000 0.352         0.000          0.000         1.000      0.500   \n",
       "1      1.000 0.706         0.000          0.000         1.000      0.000   \n",
       "2      0.000 0.450         0.000          0.000         1.000      0.500   \n",
       "3      0.000 0.596         0.000          0.000         1.000      0.000   \n",
       "4      0.000 0.694         0.000          0.000         1.000      0.500   \n",
       "...      ...   ...           ...            ...           ...        ...   \n",
       "1273   0.000 0.450         0.000          0.000         1.000      0.000   \n",
       "1274   0.000 0.682         0.000          0.000         1.000      0.500   \n",
       "1275   0.000 0.291         0.000          0.000         1.000      0.750   \n",
       "1276   1.000 0.303         0.000          0.000         1.000      0.750   \n",
       "1277   0.000 1.000         0.000          0.000         1.000      0.750   \n",
       "\n",
       "      Residence_type  avg_glucose_level   bmi  smoking_status  \n",
       "0              1.000              0.290 0.150           0.667  \n",
       "1              1.000              0.220 0.287           0.667  \n",
       "2              0.000              0.507 0.348           0.667  \n",
       "3              1.000              0.166 0.147           0.000  \n",
       "4              1.000              0.109 0.264           0.667  \n",
       "...              ...                ...   ...             ...  \n",
       "1273           1.000              0.047 0.268           0.667  \n",
       "1274           0.000              0.808 0.145           1.000  \n",
       "1275           0.000              0.068 0.227           0.667  \n",
       "1276           1.000              0.132 0.250           0.000  \n",
       "1277           0.000              0.137 0.178           0.000  \n",
       "\n",
       "[1278 rows x 10 columns]"
      ]
     },
     "execution_count": 55,
     "metadata": {},
     "output_type": "execute_result"
    }
   ],
   "source": [
    "X_test_scaled = pd.DataFrame(scale.fit_transform(x_test),columns=x_test.columns)\n",
    "X_test_scaled"
   ]
  },
  {
   "cell_type": "markdown",
   "id": "c1c5e5ef",
   "metadata": {},
   "source": [
    "## Now Model Building Part"
   ]
  },
  {
   "cell_type": "markdown",
   "id": "901ed635",
   "metadata": {},
   "source": [
    "### Logistic Regression"
   ]
  },
  {
   "cell_type": "code",
   "execution_count": 56,
   "id": "5fb6ec36",
   "metadata": {},
   "outputs": [],
   "source": [
    "from sklearn.linear_model import LogisticRegression"
   ]
  },
  {
   "cell_type": "code",
   "execution_count": 57,
   "id": "45ceb379",
   "metadata": {},
   "outputs": [],
   "source": [
    "log_reg=LogisticRegression()\n",
    "log_reg.fit(X_train_scaled,y_train)\n",
    "y_pred=log_reg.predict(X_test_scaled)"
   ]
  },
  {
   "cell_type": "markdown",
   "id": "d0c8ece3",
   "metadata": {},
   "source": [
    "### Now Make The Confusion Metrix for Logistic Regression"
   ]
  },
  {
   "cell_type": "code",
   "execution_count": 58,
   "id": "d5d503b0",
   "metadata": {},
   "outputs": [],
   "source": [
    "from sklearn.metrics import confusion_matrix"
   ]
  },
  {
   "cell_type": "code",
   "execution_count": 59,
   "id": "b92a94e4",
   "metadata": {},
   "outputs": [],
   "source": [
    "cm=confusion_matrix(y_test,y_pred)"
   ]
  },
  {
   "cell_type": "code",
   "execution_count": 65,
   "id": "7aff3c56",
   "metadata": {},
   "outputs": [
    {
     "name": "stdout",
     "output_type": "stream",
     "text": [
      "[[1218    0]\n",
      " [  60    0]]\n"
     ]
    }
   ],
   "source": [
    "print(cm)"
   ]
  },
  {
   "cell_type": "markdown",
   "id": "b6767386",
   "metadata": {},
   "source": [
    "### Now Checking the training and testing Accuracy for  Logistic Regression"
   ]
  },
  {
   "cell_type": "code",
   "execution_count": 66,
   "id": "854bbdbc",
   "metadata": {},
   "outputs": [
    {
     "name": "stdout",
     "output_type": "stream",
     "text": [
      "Training-set accuracy score: 0.9506784968684759\n"
     ]
    }
   ],
   "source": [
    "print('Training-set accuracy score:', log_reg.score(X_train_scaled, y_train))"
   ]
  },
  {
   "cell_type": "code",
   "execution_count": 67,
   "id": "ce376992",
   "metadata": {},
   "outputs": [
    {
     "name": "stdout",
     "output_type": "stream",
     "text": [
      "Test-set accuracy score: 0.9530516431924883\n"
     ]
    }
   ],
   "source": [
    "print('Test-set accuracy score:', log_reg.score(X_test_scaled, y_test))"
   ]
  },
  {
   "cell_type": "code",
   "execution_count": 68,
   "id": "44814362",
   "metadata": {},
   "outputs": [],
   "source": [
    "from sklearn import metrics"
   ]
  },
  {
   "cell_type": "code",
   "execution_count": 69,
   "id": "d8ab7884",
   "metadata": {},
   "outputs": [
    {
     "data": {
      "text/plain": [
       "0.9530516431924883"
      ]
     },
     "execution_count": 69,
     "metadata": {},
     "output_type": "execute_result"
    }
   ],
   "source": [
    "acc_log_clf = metrics.accuracy_score(y_test,y_pred)\n",
    "acc_log_clf"
   ]
  },
  {
   "cell_type": "markdown",
   "id": "cacbb7f6",
   "metadata": {},
   "source": [
    "### Model Accuracy for  Logistic Regression"
   ]
  },
  {
   "cell_type": "code",
   "execution_count": 76,
   "id": "e22e27b1",
   "metadata": {},
   "outputs": [
    {
     "name": "stdout",
     "output_type": "stream",
     "text": [
      "[LogisticRegression()]\n",
      "Score :  0.9530516431924883\n"
     ]
    },
    {
     "data": {
      "image/png": "[encoded data removed]",
      "text/plain": [
       "<Figure size 720x432 with 2 Axes>"
      ]
     },
     "metadata": {
      "needs_background": "light"
     },
     "output_type": "display_data"
    }
   ],
   "source": [
    "pred_list = [log_reg]\n",
    "#print(pred_list)\n",
    "\n",
    "#import pickle\n",
    "\n",
    "#PICKLE_FILE_PATH = 'pred_list.pkl'\n",
    "\n",
    "\"\"\"\" with open(PICKLE_FILE_PATH, \"wb\") as f:\n",
    "    pickle.dump(pred_list, f) \"\"\"\n",
    "\n",
    "for i in pred_list:\n",
    "    print(\"Score : \",i.score(X_test_scaled,y_test))\n",
    "    y_pred = i.predict(X_test_scaled)\n",
    "    sns.heatmap(confusion_matrix(y_test,y_pred),annot = True)\n",
    "    plt.xlabel(\"Y_pred\")\n",
    "    plt.ylabel(\"Y_test\")\n",
    "    plt.title(i)\n",
    "    plt.show()"
   ]
  },
  {
   "cell_type": "markdown",
   "id": "d622258d",
   "metadata": {},
   "source": [
    "###  Decision Tree"
   ]
  },
  {
   "cell_type": "code",
   "execution_count": 355,
   "id": "5d712d98",
   "metadata": {},
   "outputs": [],
   "source": [
    "from sklearn import tree"
   ]
  },
  {
   "cell_type": "code",
   "execution_count": 392,
   "id": "eb5211c3",
   "metadata": {},
   "outputs": [],
   "source": [
    "model=tree.DecisionTreeClassifier()\n",
    "model.fit(X_train_scaled,y_train);"
   ]
  },
  {
   "cell_type": "code",
   "execution_count": 357,
   "id": "b6c7c4b1",
   "metadata": {},
   "outputs": [],
   "source": [
    "y_pred=model.predict(X_test_scaled)"
   ]
  },
  {
   "cell_type": "markdown",
   "id": "72175589",
   "metadata": {},
   "source": [
    "### Now Make The Confusion Metrix for Decision Tree"
   ]
  },
  {
   "cell_type": "code",
   "execution_count": 358,
   "id": "3ba8330d",
   "metadata": {
    "scrolled": true
   },
   "outputs": [
    {
     "name": "stdout",
     "output_type": "stream",
     "text": [
      "[[1164   54]\n",
      " [  50   10]]\n"
     ]
    }
   ],
   "source": [
    "cm=confusion_matrix(y_test,y_pred)\n",
    "print(cm)"
   ]
  },
  {
   "cell_type": "markdown",
   "id": "a23cd424",
   "metadata": {},
   "source": [
    "### Now Checking the training and testing Accuracy Decision Tree"
   ]
  },
  {
   "cell_type": "code",
   "execution_count": 359,
   "id": "8aad671d",
   "metadata": {},
   "outputs": [
    {
     "name": "stdout",
     "output_type": "stream",
     "text": [
      "Training-set accuracy score: 0.9506784968684759\n"
     ]
    }
   ],
   "source": [
    "print('Training-set accuracy score:', log_reg.score(X_train_scaled, y_train))"
   ]
  },
  {
   "cell_type": "code",
   "execution_count": 360,
   "id": "b6d39ce8",
   "metadata": {},
   "outputs": [
    {
     "name": "stdout",
     "output_type": "stream",
     "text": [
      "Test-set accuracy score: 0.9530516431924883\n"
     ]
    }
   ],
   "source": [
    "print('Test-set accuracy score:', log_reg.score(X_test_scaled, y_test))"
   ]
  },
  {
   "cell_type": "code",
   "execution_count": 361,
   "id": "8ae064d8",
   "metadata": {},
   "outputs": [],
   "source": [
    "from sklearn import metrics"
   ]
  },
  {
   "cell_type": "code",
   "execution_count": 362,
   "id": "ffc00dc6",
   "metadata": {},
   "outputs": [
    {
     "data": {
      "text/plain": [
       "0.918622848200313"
      ]
     },
     "execution_count": 362,
     "metadata": {},
     "output_type": "execute_result"
    }
   ],
   "source": [
    "acc_log_clf = metrics.accuracy_score(y_test,y_pred)\n",
    "acc_log_clf"
   ]
  },
  {
   "cell_type": "markdown",
   "id": "6459569f",
   "metadata": {},
   "source": [
    "### Model Accuracy for Decision Tree"
   ]
  },
  {
   "cell_type": "code",
   "execution_count": 363,
   "id": "1b766d98",
   "metadata": {
    "scrolled": false
   },
   "outputs": [
    {
     "name": "stdout",
     "output_type": "stream",
     "text": [
      "Score :  0.918622848200313\n"
     ]
    },
    {
     "data": {
      "image/png": "[encoded data removed]",
      "text/plain": [
       "<Figure size 720x432 with 2 Axes>"
      ]
     },
     "metadata": {
      "needs_background": "light"
     },
     "output_type": "display_data"
    }
   ],
   "source": [
    "pred_list = [model]\n",
    "\n",
    "for i in pred_list:\n",
    "    print(\"Score : \",i.score(X_test_scaled,y_test))\n",
    "    y_pred = i.predict(X_test_scaled)\n",
    "    sns.heatmap(confusion_matrix(y_test,y_pred),annot = True)\n",
    "    plt.xlabel(\"Y_pred\")\n",
    "    plt.ylabel(\"Y_test\")\n",
    "    plt.title(i)\n",
    "    plt.show()"
   ]
  },
  {
   "cell_type": "markdown",
   "id": "f6850814",
   "metadata": {},
   "source": [
    "### Random Forest"
   ]
  },
  {
   "cell_type": "code",
   "execution_count": 364,
   "id": "da03368b",
   "metadata": {},
   "outputs": [],
   "source": [
    "from sklearn.ensemble import RandomForestClassifier"
   ]
  },
  {
   "cell_type": "code",
   "execution_count": 365,
   "id": "03442847",
   "metadata": {},
   "outputs": [],
   "source": [
    "regressor = RandomForestClassifier(n_estimators=1000, max_features=9)\n",
    "regressor.fit(X_train_scaled,y_train)\n",
    "y_pred=regressor.predict(X_test_scaled)"
   ]
  },
  {
   "cell_type": "markdown",
   "id": "f4b88fcf",
   "metadata": {},
   "source": [
    "### Now Make The Confusion Metrix for Random Forest"
   ]
  },
  {
   "cell_type": "code",
   "execution_count": 366,
   "id": "c99d4ac4",
   "metadata": {},
   "outputs": [
    {
     "name": "stdout",
     "output_type": "stream",
     "text": [
      "[[1212    6]\n",
      " [  58    2]]\n"
     ]
    }
   ],
   "source": [
    "cm=confusion_matrix(y_test,y_pred)\n",
    "print(cm)"
   ]
  },
  {
   "cell_type": "markdown",
   "id": "2f27c769",
   "metadata": {},
   "source": [
    "### Now Checking the training and testing Accuracy for  Random Forest"
   ]
  },
  {
   "cell_type": "code",
   "execution_count": 367,
   "id": "a45bbeae",
   "metadata": {},
   "outputs": [
    {
     "name": "stdout",
     "output_type": "stream",
     "text": [
      "Training-set accuracy score: 0.9506784968684759\n"
     ]
    }
   ],
   "source": [
    "print('Training-set accuracy score:', log_reg.score(X_train_scaled, y_train))"
   ]
  },
  {
   "cell_type": "code",
   "execution_count": 368,
   "id": "89e12a29",
   "metadata": {},
   "outputs": [
    {
     "name": "stdout",
     "output_type": "stream",
     "text": [
      "Test-set accuracy score: 0.9530516431924883\n"
     ]
    }
   ],
   "source": [
    "print('Test-set accuracy score:', log_reg.score(X_test_scaled, y_test))"
   ]
  },
  {
   "cell_type": "code",
   "execution_count": 369,
   "id": "bc108dec",
   "metadata": {},
   "outputs": [
    {
     "data": {
      "text/plain": [
       "0.9499217527386542"
      ]
     },
     "execution_count": 369,
     "metadata": {},
     "output_type": "execute_result"
    }
   ],
   "source": [
    "acc_log_clf = metrics.accuracy_score(y_test,y_pred)\n",
    "acc_log_clf"
   ]
  },
  {
   "cell_type": "markdown",
   "id": "64ec8453",
   "metadata": {},
   "source": [
    "### Model Accuracy for Random Forest"
   ]
  },
  {
   "cell_type": "code",
   "execution_count": 370,
   "id": "ae9e8c3e",
   "metadata": {},
   "outputs": [
    {
     "name": "stdout",
     "output_type": "stream",
     "text": [
      "Score :  0.9499217527386542\n"
     ]
    },
    {
     "data": {
      "image/png": "[encoded data removed]",
      "text/plain": [
       "<Figure size 720x432 with 2 Axes>"
      ]
     },
     "metadata": {
      "needs_background": "light"
     },
     "output_type": "display_data"
    }
   ],
   "source": [
    "pred_list = [regressor]\n",
    "\n",
    "for i in pred_list:\n",
    "    print(\"Score : \",i.score(X_test_scaled,y_test))\n",
    "    y_pred = i.predict(X_test_scaled)\n",
    "    sns.heatmap(confusion_matrix(y_test,y_pred),annot = True)\n",
    "    plt.xlabel(\"Y_pred\")\n",
    "    plt.ylabel(\"Y_test\")\n",
    "    plt.title(i)\n",
    "    plt.show()"
   ]
  },
  {
   "cell_type": "markdown",
   "id": "4a49c808",
   "metadata": {},
   "source": [
    "### KNN Classifier"
   ]
  },
  {
   "cell_type": "code",
   "execution_count": 371,
   "id": "3cf0f428",
   "metadata": {},
   "outputs": [],
   "source": [
    "from sklearn.neighbors import KNeighborsClassifier"
   ]
  },
  {
   "cell_type": "code",
   "execution_count": 372,
   "id": "40896460",
   "metadata": {},
   "outputs": [],
   "source": [
    "knc = KNeighborsClassifier(n_neighbors=10)\n",
    "knc=knc.fit(X_train_scaled,y_train)\n",
    "y_pred=knc.predict(X_test_scaled)"
   ]
  },
  {
   "cell_type": "markdown",
   "id": "c20f23f3",
   "metadata": {},
   "source": [
    "### Now Make The Confusion Metrix for KNN Classifier"
   ]
  },
  {
   "cell_type": "code",
   "execution_count": 373,
   "id": "b12656b5",
   "metadata": {},
   "outputs": [
    {
     "name": "stdout",
     "output_type": "stream",
     "text": [
      "[[1218    0]\n",
      " [  60    0]]\n"
     ]
    }
   ],
   "source": [
    "cm=confusion_matrix(y_test,y_pred)\n",
    "print(cm)"
   ]
  },
  {
   "cell_type": "markdown",
   "id": "f28171e4",
   "metadata": {},
   "source": [
    "### Now Checking the training and testing Accuracy for  KNN Classifier"
   ]
  },
  {
   "cell_type": "code",
   "execution_count": 374,
   "id": "4f4da8fb",
   "metadata": {},
   "outputs": [
    {
     "name": "stdout",
     "output_type": "stream",
     "text": [
      "Training-set accuracy score: 0.9506784968684759\n"
     ]
    }
   ],
   "source": [
    "print('Training-set accuracy score:', log_reg.score(X_train_scaled, y_train))"
   ]
  },
  {
   "cell_type": "code",
   "execution_count": 375,
   "id": "4001ceae",
   "metadata": {},
   "outputs": [
    {
     "name": "stdout",
     "output_type": "stream",
     "text": [
      "Test-set accuracy score: 0.9530516431924883\n"
     ]
    }
   ],
   "source": [
    "print('Test-set accuracy score:', log_reg.score(X_test_scaled, y_test))"
   ]
  },
  {
   "cell_type": "code",
   "execution_count": 376,
   "id": "e725cc8d",
   "metadata": {},
   "outputs": [
    {
     "data": {
      "text/plain": [
       "0.9530516431924883"
      ]
     },
     "execution_count": 376,
     "metadata": {},
     "output_type": "execute_result"
    }
   ],
   "source": [
    "acc_log_clf = metrics.accuracy_score(y_test,y_pred)\n",
    "acc_log_clf"
   ]
  },
  {
   "cell_type": "markdown",
   "id": "d1b0a136",
   "metadata": {},
   "source": [
    "### Model Accuracy for KNN Classifier"
   ]
  },
  {
   "cell_type": "code",
   "execution_count": 377,
   "id": "9e790e48",
   "metadata": {},
   "outputs": [
    {
     "name": "stdout",
     "output_type": "stream",
     "text": [
      "Score :  0.9530516431924883\n"
     ]
    },
    {
     "data": {
      "image/png": "[encoded data removed]",
      "text/plain": [
       "<Figure size 720x432 with 2 Axes>"
      ]
     },
     "metadata": {
      "needs_background": "light"
     },
     "output_type": "display_data"
    }
   ],
   "source": [
    "pred_list = [knc]\n",
    "\n",
    "for i in pred_list:\n",
    "    print(\"Score : \",i.score(X_test_scaled,y_test))\n",
    "    y_pred = i.predict(X_test_scaled)\n",
    "    sns.heatmap(confusion_matrix(y_test,y_pred),annot = True)\n",
    "    plt.xlabel(\"Y_pred\")\n",
    "    plt.ylabel(\"Y_test\")\n",
    "    plt.title(i)\n",
    "    plt.show()"
   ]
  },
  {
   "cell_type": "markdown",
   "id": "b2068e51",
   "metadata": {},
   "source": [
    "### SUPPORT VECTOR MACHINE "
   ]
  },
  {
   "cell_type": "code",
   "execution_count": 378,
   "id": "8e19dff6",
   "metadata": {},
   "outputs": [],
   "source": [
    "from sklearn.svm import SVC"
   ]
  },
  {
   "cell_type": "code",
   "execution_count": 379,
   "id": "828a0de2",
   "metadata": {},
   "outputs": [],
   "source": [
    "svm_model = SVC(kernel='linear')\n",
    "svm_model.fit(X_train_scaled, y_train)\n",
    "y_pred = svm_model.predict(X_test_scaled)"
   ]
  },
  {
   "cell_type": "markdown",
   "id": "19a0bb90",
   "metadata": {},
   "source": [
    "### Now Make The Confusion Metrix for Support Vector Machine"
   ]
  },
  {
   "cell_type": "code",
   "execution_count": 380,
   "id": "88f52214",
   "metadata": {},
   "outputs": [
    {
     "name": "stdout",
     "output_type": "stream",
     "text": [
      "[[1218    0]\n",
      " [  60    0]]\n"
     ]
    }
   ],
   "source": [
    "cm=confusion_matrix(y_test,y_pred)\n",
    "print(cm)"
   ]
  },
  {
   "cell_type": "markdown",
   "id": "50212849",
   "metadata": {},
   "source": [
    "### Now Checking the training and testing Accuracy for Support Vector Machine"
   ]
  },
  {
   "cell_type": "code",
   "execution_count": 381,
   "id": "110d0bd6",
   "metadata": {},
   "outputs": [
    {
     "name": "stdout",
     "output_type": "stream",
     "text": [
      "Training-set accuracy score: 0.9506784968684759\n"
     ]
    }
   ],
   "source": [
    "print('Training-set accuracy score:', log_reg.score(X_train_scaled, y_train))"
   ]
  },
  {
   "cell_type": "code",
   "execution_count": 382,
   "id": "e21df845",
   "metadata": {},
   "outputs": [
    {
     "name": "stdout",
     "output_type": "stream",
     "text": [
      "Test-set accuracy score: 0.9530516431924883\n"
     ]
    }
   ],
   "source": [
    "print('Test-set accuracy score:', log_reg.score(X_test_scaled, y_test))"
   ]
  },
  {
   "cell_type": "code",
   "execution_count": 383,
   "id": "db521de3",
   "metadata": {},
   "outputs": [
    {
     "data": {
      "text/plain": [
       "0.9530516431924883"
      ]
     },
     "execution_count": 383,
     "metadata": {},
     "output_type": "execute_result"
    }
   ],
   "source": [
    "acc_log_clf = metrics.accuracy_score(y_test,y_pred)\n",
    "acc_log_clf"
   ]
  },
  {
   "cell_type": "markdown",
   "id": "603fdbe3",
   "metadata": {},
   "source": [
    "### Model Accuracy for Support Vector Machine"
   ]
  },
  {
   "cell_type": "code",
   "execution_count": 384,
   "id": "982fe2fb",
   "metadata": {},
   "outputs": [
    {
     "name": "stdout",
     "output_type": "stream",
     "text": [
      "Score :  0.9530516431924883\n"
     ]
    },
    {
     "data": {
      "image/png": "[encoded data removed]",
      "text/plain": [
       "<Figure size 720x432 with 2 Axes>"
      ]
     },
     "metadata": {
      "needs_background": "light"
     },
     "output_type": "display_data"
    }
   ],
   "source": [
    "pred_list = [svm_model]\n",
    "\n",
    "for i in pred_list:\n",
    "    print(\"Score : \",i.score(X_test_scaled,y_test))\n",
    "    y_pred = i.predict(X_test_scaled)\n",
    "    sns.heatmap(confusion_matrix(y_test,y_pred),annot = True)\n",
    "    plt.xlabel(\"Y_pred\")\n",
    "    plt.ylabel(\"Y_test\")\n",
    "    plt.title(i)\n",
    "    plt.show()"
   ]
  },
  {
   "cell_type": "markdown",
   "id": "e38b113c",
   "metadata": {},
   "source": [
    "### NAIVE BAYES"
   ]
  },
  {
   "cell_type": "code",
   "execution_count": 385,
   "id": "f1af1159",
   "metadata": {},
   "outputs": [],
   "source": [
    "from sklearn.naive_bayes import GaussianNB"
   ]
  },
  {
   "cell_type": "code",
   "execution_count": 386,
   "id": "a52c7c62",
   "metadata": {},
   "outputs": [],
   "source": [
    "nb_model = GaussianNB()\n",
    "nb_model.fit(X_train_scaled, y_train)\n",
    "y_pred = nb_model.predict(X_test_scaled)"
   ]
  },
  {
   "cell_type": "markdown",
   "id": "a2e6fea9",
   "metadata": {},
   "source": [
    "### Now Make The Confusion Metrix for Naive bayes"
   ]
  },
  {
   "cell_type": "code",
   "execution_count": 387,
   "id": "b4df8be6",
   "metadata": {},
   "outputs": [
    {
     "name": "stdout",
     "output_type": "stream",
     "text": [
      "[[1067  151]\n",
      " [  33   27]]\n"
     ]
    }
   ],
   "source": [
    "cm=confusion_matrix(y_test,y_pred)\n",
    "print(cm)"
   ]
  },
  {
   "cell_type": "markdown",
   "id": "a686b780",
   "metadata": {},
   "source": [
    "### Now Checking the training and testing Accuracy for Support Vector Machine"
   ]
  },
  {
   "cell_type": "code",
   "execution_count": 388,
   "id": "0a074173",
   "metadata": {},
   "outputs": [
    {
     "name": "stdout",
     "output_type": "stream",
     "text": [
      "Training-set accuracy score: 0.9506784968684759\n"
     ]
    }
   ],
   "source": [
    "print('Training-set accuracy score:', log_reg.score(X_train_scaled, y_train))"
   ]
  },
  {
   "cell_type": "code",
   "execution_count": 389,
   "id": "7d16d7f6",
   "metadata": {},
   "outputs": [
    {
     "name": "stdout",
     "output_type": "stream",
     "text": [
      "Test-set accuracy score: 0.9530516431924883\n"
     ]
    }
   ],
   "source": [
    "print('Test-set accuracy score:', log_reg.score(X_test_scaled, y_test))"
   ]
  },
  {
   "cell_type": "code",
   "execution_count": 390,
   "id": "1020bdd1",
   "metadata": {},
   "outputs": [
    {
     "data": {
      "text/plain": [
       "0.8560250391236307"
      ]
     },
     "execution_count": 390,
     "metadata": {},
     "output_type": "execute_result"
    }
   ],
   "source": [
    "acc_log_clf = metrics.accuracy_score(y_test,y_pred)\n",
    "acc_log_clf"
   ]
  },
  {
   "cell_type": "markdown",
   "id": "a30e2c42",
   "metadata": {},
   "source": [
    "### Model Accuracy for Naive Bayes"
   ]
  },
  {
   "cell_type": "code",
   "execution_count": 391,
   "id": "87c8980d",
   "metadata": {},
   "outputs": [
    {
     "name": "stdout",
     "output_type": "stream",
     "text": [
      "Score :  0.8560250391236307\n"
     ]
    },
    {
     "data": {
      "image/png": "[encoded data removed]",
      "text/plain": [
       "<Figure size 720x432 with 2 Axes>"
      ]
     },
     "metadata": {
      "needs_background": "light"
     },
     "output_type": "display_data"
    }
   ],
   "source": [
    "pred_list = [nb_model]\n",
    "\n",
    "for i in pred_list:\n",
    "    print(\"Score : \",i.score(X_test_scaled,y_test))\n",
    "    y_pred = i.predict(X_test_scaled)\n",
    "    sns.heatmap(confusion_matrix(y_test,y_pred),annot = True)\n",
    "    plt.xlabel(\"Y_pred\")\n",
    "    plt.ylabel(\"Y_test\")\n",
    "    plt.title(i)\n",
    "    plt.show()"
   ]
  },
  {
   "cell_type": "code",
   "execution_count": null,
   "id": "2b2031cb",
   "metadata": {},
   "outputs": [],
   "source": []
  },
  {
   "cell_type": "code",
   "execution_count": null,
   "id": "54e89413",
   "metadata": {},
   "outputs": [],
   "source": []
  }
 ],
 "metadata": {
  "kernelspec": {
   "display_name": "Python 3 (ipykernel)",
   "language": "python",
   "name": "python3"
  },
  "language_info": {
   "codemirror_mode": {
    "name": "ipython",
    "version": 3
   },
   "file_extension": ".py",
   "mimetype": "text/x-python",
   "name": "python",
   "nbconvert_exporter": "python",
   "pygments_lexer": "ipython3",
   "version": "3.9.12"
  }
 },
 "nbformat": 4,
 "nbformat_minor": 5
}
